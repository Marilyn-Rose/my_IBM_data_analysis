{
 "cells": [
  {
   "cell_type": "code",
   "execution_count": 1,
   "id": "5e93445b-de37-45d8-87f6-87a1c2113039",
   "metadata": {},
   "outputs": [
    {
     "name": "stdout",
     "output_type": "stream",
     "text": [
      "       Country          Region  Happiness Rank  Happiness Score  \\\n",
      "0      Denmark  Western Europe               1            7.526   \n",
      "1  Switzerland  Western Europe               2            7.509   \n",
      "2      Iceland  Western Europe               3            7.501   \n",
      "3       Norway  Western Europe               4            7.498   \n",
      "4      Finland  Western Europe               5            7.413   \n",
      "\n",
      "   Lower Confidence Interval Upper Confidence Interval  \\\n",
      "0                      7.460                     7.592   \n",
      "1                      7.428                      7.59   \n",
      "2                      7.333                     7.669   \n",
      "3                      7.421                     7.575   \n",
      "4                      7.351                     7.475   \n",
      "\n",
      "  Economy (GDP per Capita)   Family Health (Life Expectancy)  Freedom  \\\n",
      "0                  1.44178  1.16374                  0.79504  0.57941   \n",
      "1                  1.52733  1.14524                  0.86303  0.58557   \n",
      "2                  1.42666  1.18326                  0.86733  0.56624   \n",
      "3                  1.57744  1.12690                  0.79579  0.59609   \n",
      "4                  1.40598  1.13464                  0.81091  0.57104   \n",
      "\n",
      "   Trust (Government Corruption)  Generosity  Dystopia Residual  \n",
      "0                        0.44453     0.36171            2.73939  \n",
      "1                        0.41203     0.28083            2.69463  \n",
      "2                        0.14975     0.47678            2.83137  \n",
      "3                        0.35776     0.37895            2.66465  \n",
      "4                        0.41004     0.25492            2.82596  \n"
     ]
    }
   ],
   "source": [
    "import pandas as pd\n",
    "\n",
    "url = \"https://cf-courses-data.s3.us.cloud-object-storage.appdomain.cloud/IBMSkillsNetwork-AI0272EN-SkillsNetwork/labs/dataset/2016.csv\"\n",
    "df = pd.read_csv(url)\n",
    "\n",
    "print(df.head())"
   ]
  },
  {
   "cell_type": "code",
   "execution_count": 5,
   "id": "5f9fbfaa-c487-401a-9e39-8af447cf07b4",
   "metadata": {},
   "outputs": [
    {
     "name": "stdout",
     "output_type": "stream",
     "text": [
      "Country                           object\n",
      "Region                            object\n",
      "Happiness Rank                     int64\n",
      "Happiness Score                  float64\n",
      "Lower Confidence Interval        float64\n",
      "Upper Confidence Interval         object\n",
      "Economy (GDP per Capita)          object\n",
      "Family                           float64\n",
      "Health (Life Expectancy)          object\n",
      "Freedom                           object\n",
      "Trust (Government Corruption)    float64\n",
      "Generosity                       float64\n",
      "Dystopia Residual                float64\n",
      "dtype: object\n",
      "--------------------------------------------------\n",
      "Unsuitable column types found in the following columns:\n",
      "Country\n",
      "Region\n",
      "Upper Confidence Interval\n",
      "Economy (GDP per Capita)\n",
      "Health (Life Expectancy)\n",
      "Freedom\n"
     ]
    }
   ],
   "source": [
    "# Check the data types of the columns in the dataset\n",
    "print(df.dtypes)\n",
    "print('--------------------------------------------------')\n",
    "# Check for any unsuitable column types\n",
    "unsuitable_columns = [col for col in df.columns if df[col].dtype not in ['int64', 'float64']]\n",
    "if unsuitable_columns:\n",
    "    print(\"Unsuitable column types found in the following columns:\")\n",
    "    for col in unsuitable_columns:\n",
    "        print(col)\n",
    "else:\n",
    "    print(\"No unsuitable column types found.\")"
   ]
  },
  {
   "cell_type": "code",
   "execution_count": 7,
   "id": "35d5eb29-5636-487e-990d-979c629bd2d6",
   "metadata": {},
   "outputs": [],
   "source": [
    "# Convert unsuitable column types to appropriate types\n",
    "for col in unsuitable_columns:\n",
    "    if df[col].dtype == 'object':\n",
    "        df[col] = pd.to_numeric(df[col], errors='coerce')\n",
    "    elif df[col].dtype == 'bool':\n",
    "        df[col] = df[col].astype(int)"
   ]
  },
  {
   "cell_type": "code",
   "execution_count": 9,
   "id": "a76563af-eb88-4618-9528-395d662e7134",
   "metadata": {},
   "outputs": [
    {
     "name": "stdout",
     "output_type": "stream",
     "text": [
      "Country                          float64\n",
      "Region                           float64\n",
      "Happiness Rank                     int64\n",
      "Happiness Score                  float64\n",
      "Lower Confidence Interval        float64\n",
      "Upper Confidence Interval        float64\n",
      "Economy (GDP per Capita)         float64\n",
      "Family                           float64\n",
      "Health (Life Expectancy)         float64\n",
      "Freedom                          float64\n",
      "Trust (Government Corruption)    float64\n",
      "Generosity                       float64\n",
      "Dystopia Residual                float64\n",
      "dtype: object\n"
     ]
    }
   ],
   "source": [
    "print(df.dtypes)"
   ]
  },
  {
   "cell_type": "code",
   "execution_count": null,
   "id": "93d1dba3-77e7-4164-aa44-5f20a24d97c8",
   "metadata": {},
   "outputs": [],
   "source": []
  }
 ],
 "metadata": {
  "kernelspec": {
   "display_name": "Python 3 (ipykernel)",
   "language": "python",
   "name": "python3"
  },
  "language_info": {
   "codemirror_mode": {
    "name": "ipython",
    "version": 3
   },
   "file_extension": ".py",
   "mimetype": "text/x-python",
   "name": "python",
   "nbconvert_exporter": "python",
   "pygments_lexer": "ipython3",
   "version": "3.12.4"
  }
 },
 "nbformat": 4,
 "nbformat_minor": 5
}
