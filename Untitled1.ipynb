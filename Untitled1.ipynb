{
 "cells": [
  {
   "cell_type": "code",
   "execution_count": 2,
   "id": "1d748a7d",
   "metadata": {},
   "outputs": [],
   "source": [
    "from nba_api.stats.static import teams\n",
    "import matplotlib.pyplot as plt\n",
    "import pandas as pd"
   ]
  },
  {
   "cell_type": "code",
   "execution_count": 3,
   "id": "2020ba2f",
   "metadata": {},
   "outputs": [],
   "source": [
    "def one_dict(list_dict):\n",
    "    keys=list_dict[0].keys()\n",
    "    out_dict={key:[] for key in keys}\n",
    "    for dict_ in list_dict:\n",
    "        for key, value in dict_.items():\n",
    "            out_dict[key].append(value)\n",
    "    return out_dictc"
   ]
  },
  {
   "cell_type": "code",
   "execution_count": 4,
   "id": "872c5dfd",
   "metadata": {},
   "outputs": [],
   "source": [
    "nba_teams = teams.get_teams()"
   ]
  },
  {
   "cell_type": "code",
   "execution_count": 5,
   "id": "7313d08b",
   "metadata": {},
   "outputs": [
    {
     "data": {
      "text/plain": [
       "[{'id': 1610612737,\n",
       "  'full_name': 'Atlanta Hawks',\n",
       "  'abbreviation': 'ATL',\n",
       "  'nickname': 'Hawks',\n",
       "  'city': 'Atlanta',\n",
       "  'state': 'Georgia',\n",
       "  'year_founded': 1949},\n",
       " {'id': 1610612738,\n",
       "  'full_name': 'Boston Celtics',\n",
       "  'abbreviation': 'BOS',\n",
       "  'nickname': 'Celtics',\n",
       "  'city': 'Boston',\n",
       "  'state': 'Massachusetts',\n",
       "  'year_founded': 1946},\n",
       " {'id': 1610612739,\n",
       "  'full_name': 'Cleveland Cavaliers',\n",
       "  'abbreviation': 'CLE',\n",
       "  'nickname': 'Cavaliers',\n",
       "  'city': 'Cleveland',\n",
       "  'state': 'Ohio',\n",
       "  'year_founded': 1970},\n",
       " {'id': 1610612740,\n",
       "  'full_name': 'New Orleans Pelicans',\n",
       "  'abbreviation': 'NOP',\n",
       "  'nickname': 'Pelicans',\n",
       "  'city': 'New Orleans',\n",
       "  'state': 'Louisiana',\n",
       "  'year_founded': 2002},\n",
       " {'id': 1610612741,\n",
       "  'full_name': 'Chicago Bulls',\n",
       "  'abbreviation': 'CHI',\n",
       "  'nickname': 'Bulls',\n",
       "  'city': 'Chicago',\n",
       "  'state': 'Illinois',\n",
       "  'year_founded': 1966},\n",
       " {'id': 1610612742,\n",
       "  'full_name': 'Dallas Mavericks',\n",
       "  'abbreviation': 'DAL',\n",
       "  'nickname': 'Mavericks',\n",
       "  'city': 'Dallas',\n",
       "  'state': 'Texas',\n",
       "  'year_founded': 1980},\n",
       " {'id': 1610612743,\n",
       "  'full_name': 'Denver Nuggets',\n",
       "  'abbreviation': 'DEN',\n",
       "  'nickname': 'Nuggets',\n",
       "  'city': 'Denver',\n",
       "  'state': 'Colorado',\n",
       "  'year_founded': 1976},\n",
       " {'id': 1610612744,\n",
       "  'full_name': 'Golden State Warriors',\n",
       "  'abbreviation': 'GSW',\n",
       "  'nickname': 'Warriors',\n",
       "  'city': 'Golden State',\n",
       "  'state': 'California',\n",
       "  'year_founded': 1946},\n",
       " {'id': 1610612745,\n",
       "  'full_name': 'Houston Rockets',\n",
       "  'abbreviation': 'HOU',\n",
       "  'nickname': 'Rockets',\n",
       "  'city': 'Houston',\n",
       "  'state': 'Texas',\n",
       "  'year_founded': 1967},\n",
       " {'id': 1610612746,\n",
       "  'full_name': 'Los Angeles Clippers',\n",
       "  'abbreviation': 'LAC',\n",
       "  'nickname': 'Clippers',\n",
       "  'city': 'Los Angeles',\n",
       "  'state': 'California',\n",
       "  'year_founded': 1970},\n",
       " {'id': 1610612747,\n",
       "  'full_name': 'Los Angeles Lakers',\n",
       "  'abbreviation': 'LAL',\n",
       "  'nickname': 'Lakers',\n",
       "  'city': 'Los Angeles',\n",
       "  'state': 'California',\n",
       "  'year_founded': 1948},\n",
       " {'id': 1610612748,\n",
       "  'full_name': 'Miami Heat',\n",
       "  'abbreviation': 'MIA',\n",
       "  'nickname': 'Heat',\n",
       "  'city': 'Miami',\n",
       "  'state': 'Florida',\n",
       "  'year_founded': 1988},\n",
       " {'id': 1610612749,\n",
       "  'full_name': 'Milwaukee Bucks',\n",
       "  'abbreviation': 'MIL',\n",
       "  'nickname': 'Bucks',\n",
       "  'city': 'Milwaukee',\n",
       "  'state': 'Wisconsin',\n",
       "  'year_founded': 1968},\n",
       " {'id': 1610612750,\n",
       "  'full_name': 'Minnesota Timberwolves',\n",
       "  'abbreviation': 'MIN',\n",
       "  'nickname': 'Timberwolves',\n",
       "  'city': 'Minnesota',\n",
       "  'state': 'Minnesota',\n",
       "  'year_founded': 1989},\n",
       " {'id': 1610612751,\n",
       "  'full_name': 'Brooklyn Nets',\n",
       "  'abbreviation': 'BKN',\n",
       "  'nickname': 'Nets',\n",
       "  'city': 'Brooklyn',\n",
       "  'state': 'New York',\n",
       "  'year_founded': 1976},\n",
       " {'id': 1610612752,\n",
       "  'full_name': 'New York Knicks',\n",
       "  'abbreviation': 'NYK',\n",
       "  'nickname': 'Knicks',\n",
       "  'city': 'New York',\n",
       "  'state': 'New York',\n",
       "  'year_founded': 1946},\n",
       " {'id': 1610612753,\n",
       "  'full_name': 'Orlando Magic',\n",
       "  'abbreviation': 'ORL',\n",
       "  'nickname': 'Magic',\n",
       "  'city': 'Orlando',\n",
       "  'state': 'Florida',\n",
       "  'year_founded': 1989},\n",
       " {'id': 1610612754,\n",
       "  'full_name': 'Indiana Pacers',\n",
       "  'abbreviation': 'IND',\n",
       "  'nickname': 'Pacers',\n",
       "  'city': 'Indiana',\n",
       "  'state': 'Indiana',\n",
       "  'year_founded': 1976},\n",
       " {'id': 1610612755,\n",
       "  'full_name': 'Philadelphia 76ers',\n",
       "  'abbreviation': 'PHI',\n",
       "  'nickname': '76ers',\n",
       "  'city': 'Philadelphia',\n",
       "  'state': 'Pennsylvania',\n",
       "  'year_founded': 1949},\n",
       " {'id': 1610612756,\n",
       "  'full_name': 'Phoenix Suns',\n",
       "  'abbreviation': 'PHX',\n",
       "  'nickname': 'Suns',\n",
       "  'city': 'Phoenix',\n",
       "  'state': 'Arizona',\n",
       "  'year_founded': 1968},\n",
       " {'id': 1610612757,\n",
       "  'full_name': 'Portland Trail Blazers',\n",
       "  'abbreviation': 'POR',\n",
       "  'nickname': 'Trail Blazers',\n",
       "  'city': 'Portland',\n",
       "  'state': 'Oregon',\n",
       "  'year_founded': 1970},\n",
       " {'id': 1610612758,\n",
       "  'full_name': 'Sacramento Kings',\n",
       "  'abbreviation': 'SAC',\n",
       "  'nickname': 'Kings',\n",
       "  'city': 'Sacramento',\n",
       "  'state': 'California',\n",
       "  'year_founded': 1948},\n",
       " {'id': 1610612759,\n",
       "  'full_name': 'San Antonio Spurs',\n",
       "  'abbreviation': 'SAS',\n",
       "  'nickname': 'Spurs',\n",
       "  'city': 'San Antonio',\n",
       "  'state': 'Texas',\n",
       "  'year_founded': 1976},\n",
       " {'id': 1610612760,\n",
       "  'full_name': 'Oklahoma City Thunder',\n",
       "  'abbreviation': 'OKC',\n",
       "  'nickname': 'Thunder',\n",
       "  'city': 'Oklahoma City',\n",
       "  'state': 'Oklahoma',\n",
       "  'year_founded': 1967},\n",
       " {'id': 1610612761,\n",
       "  'full_name': 'Toronto Raptors',\n",
       "  'abbreviation': 'TOR',\n",
       "  'nickname': 'Raptors',\n",
       "  'city': 'Toronto',\n",
       "  'state': 'Ontario',\n",
       "  'year_founded': 1995},\n",
       " {'id': 1610612762,\n",
       "  'full_name': 'Utah Jazz',\n",
       "  'abbreviation': 'UTA',\n",
       "  'nickname': 'Jazz',\n",
       "  'city': 'Utah',\n",
       "  'state': 'Utah',\n",
       "  'year_founded': 1974},\n",
       " {'id': 1610612763,\n",
       "  'full_name': 'Memphis Grizzlies',\n",
       "  'abbreviation': 'MEM',\n",
       "  'nickname': 'Grizzlies',\n",
       "  'city': 'Memphis',\n",
       "  'state': 'Tennessee',\n",
       "  'year_founded': 1995},\n",
       " {'id': 1610612764,\n",
       "  'full_name': 'Washington Wizards',\n",
       "  'abbreviation': 'WAS',\n",
       "  'nickname': 'Wizards',\n",
       "  'city': 'Washington',\n",
       "  'state': 'District of Columbia',\n",
       "  'year_founded': 1961},\n",
       " {'id': 1610612765,\n",
       "  'full_name': 'Detroit Pistons',\n",
       "  'abbreviation': 'DET',\n",
       "  'nickname': 'Pistons',\n",
       "  'city': 'Detroit',\n",
       "  'state': 'Michigan',\n",
       "  'year_founded': 1948},\n",
       " {'id': 1610612766,\n",
       "  'full_name': 'Charlotte Hornets',\n",
       "  'abbreviation': 'CHA',\n",
       "  'nickname': 'Hornets',\n",
       "  'city': 'Charlotte',\n",
       "  'state': 'North Carolina',\n",
       "  'year_founded': 1988}]"
      ]
     },
     "execution_count": 5,
     "metadata": {},
     "output_type": "execute_result"
    }
   ],
   "source": [
    "nba_teams"
   ]
  },
  {
   "cell_type": "code",
   "execution_count": 7,
   "id": "32134391",
   "metadata": {},
   "outputs": [
    {
     "data": {
      "text/html": [
       "<div>\n",
       "<style scoped>\n",
       "    .dataframe tbody tr th:only-of-type {\n",
       "        vertical-align: middle;\n",
       "    }\n",
       "\n",
       "    .dataframe tbody tr th {\n",
       "        vertical-align: top;\n",
       "    }\n",
       "\n",
       "    .dataframe thead th {\n",
       "        text-align: right;\n",
       "    }\n",
       "</style>\n",
       "<table border=\"1\" class=\"dataframe\">\n",
       "  <thead>\n",
       "    <tr style=\"text-align: right;\">\n",
       "      <th></th>\n",
       "      <th>id</th>\n",
       "      <th>full_name</th>\n",
       "      <th>abbreviation</th>\n",
       "      <th>nickname</th>\n",
       "      <th>city</th>\n",
       "      <th>state</th>\n",
       "      <th>year_founded</th>\n",
       "    </tr>\n",
       "  </thead>\n",
       "  <tbody>\n",
       "    <tr>\n",
       "      <th>0</th>\n",
       "      <td>1610612737</td>\n",
       "      <td>Atlanta Hawks</td>\n",
       "      <td>ATL</td>\n",
       "      <td>Hawks</td>\n",
       "      <td>Atlanta</td>\n",
       "      <td>Georgia</td>\n",
       "      <td>1949</td>\n",
       "    </tr>\n",
       "    <tr>\n",
       "      <th>1</th>\n",
       "      <td>1610612738</td>\n",
       "      <td>Boston Celtics</td>\n",
       "      <td>BOS</td>\n",
       "      <td>Celtics</td>\n",
       "      <td>Boston</td>\n",
       "      <td>Massachusetts</td>\n",
       "      <td>1946</td>\n",
       "    </tr>\n",
       "    <tr>\n",
       "      <th>2</th>\n",
       "      <td>1610612739</td>\n",
       "      <td>Cleveland Cavaliers</td>\n",
       "      <td>CLE</td>\n",
       "      <td>Cavaliers</td>\n",
       "      <td>Cleveland</td>\n",
       "      <td>Ohio</td>\n",
       "      <td>1970</td>\n",
       "    </tr>\n",
       "    <tr>\n",
       "      <th>3</th>\n",
       "      <td>1610612740</td>\n",
       "      <td>New Orleans Pelicans</td>\n",
       "      <td>NOP</td>\n",
       "      <td>Pelicans</td>\n",
       "      <td>New Orleans</td>\n",
       "      <td>Louisiana</td>\n",
       "      <td>2002</td>\n",
       "    </tr>\n",
       "    <tr>\n",
       "      <th>4</th>\n",
       "      <td>1610612741</td>\n",
       "      <td>Chicago Bulls</td>\n",
       "      <td>CHI</td>\n",
       "      <td>Bulls</td>\n",
       "      <td>Chicago</td>\n",
       "      <td>Illinois</td>\n",
       "      <td>1966</td>\n",
       "    </tr>\n",
       "  </tbody>\n",
       "</table>\n",
       "</div>"
      ],
      "text/plain": [
       "           id             full_name abbreviation   nickname         city  \\\n",
       "0  1610612737         Atlanta Hawks          ATL      Hawks      Atlanta   \n",
       "1  1610612738        Boston Celtics          BOS    Celtics       Boston   \n",
       "2  1610612739   Cleveland Cavaliers          CLE  Cavaliers    Cleveland   \n",
       "3  1610612740  New Orleans Pelicans          NOP   Pelicans  New Orleans   \n",
       "4  1610612741         Chicago Bulls          CHI      Bulls      Chicago   \n",
       "\n",
       "           state  year_founded  \n",
       "0        Georgia          1949  \n",
       "1  Massachusetts          1946  \n",
       "2           Ohio          1970  \n",
       "3      Louisiana          2002  \n",
       "4       Illinois          1966  "
      ]
     },
     "execution_count": 7,
     "metadata": {},
     "output_type": "execute_result"
    }
   ],
   "source": [
    "#dict_nba_team=one_dict(nba_teams)\n",
    "#df_teams=pd.DataFrame(dict_nba_team)\n",
    "df_teams= pd.DataFrame(nba_teams)\n",
    "df_teams.head()"
   ]
  },
  {
   "cell_type": "code",
   "execution_count": 8,
   "id": "b33ad572",
   "metadata": {},
   "outputs": [],
   "source": [
    "import requests\n",
    "url = 'https://www.ibm.com/'\n",
    "r = requests.get(url)"
   ]
  },
  {
   "cell_type": "code",
   "execution_count": 9,
   "id": "88b41ac8",
   "metadata": {},
   "outputs": [
    {
     "data": {
      "text/plain": [
       "200"
      ]
     },
     "execution_count": 9,
     "metadata": {},
     "output_type": "execute_result"
    }
   ],
   "source": [
    "r.status_code"
   ]
  },
  {
   "cell_type": "code",
   "execution_count": 10,
   "id": "369d587a",
   "metadata": {},
   "outputs": [
    {
     "data": {
      "text/plain": [
       "{'User-Agent': 'python-requests/2.31.0', 'Accept-Encoding': 'gzip, deflate, br', 'Accept': '*/*', 'Connection': 'keep-alive', 'Cookie': '_abck=040A04FF12B0163C48CFADF07BDD2FB7~-1~YAAQRl+MT6OSO5iOAQAAL6X0ngtfkHNPkQelOgDKZ0UgS0TWpC45LfMt5vbRaacwjqpGUWHumM8I4e7CNb1VyvFMcGi729jj0Y/kev/b1qpfQQ+cw/Htwyx9nq9ZqRZO1YeJ3ejUSkLx6yWmwoDHf1S/d3w+ooea6BZ3uDTuVFsjmtmHTtcU2DTILvi+BLalRF02j7kKsbZVRzoLLnnRqzeJWKK0Wi8TwiYrysw71t1G0ENfkCw1Jn65uHRGq1ze8z6mvj8VPVbeT/MHYTruMTFaCgwCrb4eVNIrkXQ0ggZrbgJ1d59VNJgMnnUXAVSOu8nDFT9gdXkgcySnvICZKuDXbybTDwq7vOudj2EfjsRVgw6eALs=~-1~-1~-1; bm_sz=FE0A198924B3CA18FA73A06380F73457~YAAQRl+MT6SSO5iOAQAAL6X0nhdXQ8jRF7aRjvuM5cvc79/ycxr2Gfp1++NkwASNFSz7hgVUd4SjfdvtOT2zsbajXouo5eWQpBvPlzv9D/zUj5PlKO9xyb2cBF35b9zPai1RFhjz01blAnSKTUPOGkOpwWeZifmGvgVGu0kWpUBQwg2fttEkML6h5Srtmj5KupKOv/ncqDOBdxmFYztlclG5r+dvv9yazi8e/H6uQ27dq4BPeQkUHIELNAiLszFrz+IG+Q11aa9bDJ51ywb1+2s4cGODcsGEuFTAolI8jh5AiOGg9oSGmOv0PgzWUVxbCgdtz62zBWoAPKYkSIZe+0IN3eoHBRBbTfB8~3487301~3356208'}"
      ]
     },
     "execution_count": 10,
     "metadata": {},
     "output_type": "execute_result"
    }
   ],
   "source": [
    "r.request.headers"
   ]
  },
  {
   "cell_type": "code",
   "execution_count": 11,
   "id": "9ed19719",
   "metadata": {},
   "outputs": [],
   "source": [
    "r.request.body"
   ]
  },
  {
   "cell_type": "code",
   "execution_count": 12,
   "id": "21f5d3bf",
   "metadata": {},
   "outputs": [
    {
     "data": {
      "text/plain": [
       "{'Content-Security-Policy': 'upgrade-insecure-requests', 'x-frame-options': 'SAMEORIGIN', 'Last-Modified': 'Tue, 02 Apr 2024 12:18:39 GMT', 'ETag': '\"15958-6151c1b32708c-gzip\"', 'Accept-Ranges': 'bytes', 'Content-Type': 'text/html;charset=utf-8', 'X-Content-Type-Options': 'nosniff', 'Cache-Control': 'max-age=900', 'Expires': 'Tue, 02 Apr 2024 13:31:57 GMT', 'X-Akamai-Transformed': '9 12400 0 pmb=mTOE,2', 'Content-Encoding': 'gzip', 'Date': 'Tue, 02 Apr 2024 13:16:57 GMT', 'Content-Length': '12589', 'Connection': 'keep-alive', 'Vary': 'Accept-Encoding', 'Strict-Transport-Security': 'max-age=31536000'}"
      ]
     },
     "execution_count": 12,
     "metadata": {},
     "output_type": "execute_result"
    }
   ],
   "source": [
    "header = r.headers\n",
    "header"
   ]
  },
  {
   "cell_type": "code",
   "execution_count": 13,
   "id": "2e986203",
   "metadata": {},
   "outputs": [
    {
     "data": {
      "text/plain": [
       "'Tue, 02 Apr 2024 13:16:57 GMT'"
      ]
     },
     "execution_count": 13,
     "metadata": {},
     "output_type": "execute_result"
    }
   ],
   "source": [
    "header['date']"
   ]
  },
  {
   "cell_type": "code",
   "execution_count": 14,
   "id": "e390fafe",
   "metadata": {},
   "outputs": [
    {
     "data": {
      "text/plain": [
       "'text/html;charset=utf-8'"
      ]
     },
     "execution_count": 14,
     "metadata": {},
     "output_type": "execute_result"
    }
   ],
   "source": [
    "header['Content-Type']"
   ]
  },
  {
   "cell_type": "code",
   "execution_count": 15,
   "id": "70450091",
   "metadata": {},
   "outputs": [
    {
     "data": {
      "text/plain": [
       "'utf-8'"
      ]
     },
     "execution_count": 15,
     "metadata": {},
     "output_type": "execute_result"
    }
   ],
   "source": [
    "r.encoding"
   ]
  },
  {
   "cell_type": "code",
   "execution_count": 16,
   "id": "cbde6b95",
   "metadata": {},
   "outputs": [
    {
     "data": {
      "text/plain": [
       "'\\n<!DOCTYPE HTML>\\n<html lang=\"en-us\">\\n<head>\\r\\n    \\r\\n    \\r\\n    \\r\\n    \\r\\n    <meta charset=\"UTF-8\"/>\\r\\n  '"
      ]
     },
     "execution_count": 16,
     "metadata": {},
     "output_type": "execute_result"
    }
   ],
   "source": [
    "r.text[0:100]"
   ]
  },
  {
   "cell_type": "code",
   "execution_count": 17,
   "id": "ef2b3222",
   "metadata": {},
   "outputs": [
    {
     "data": {
      "text/plain": [
       "'http://httpbin.org/get?name=Joseph&ID=123'"
      ]
     },
     "execution_count": 17,
     "metadata": {},
     "output_type": "execute_result"
    }
   ],
   "source": [
    "# Create Query String\n",
    "\n",
    "url_get = 'http://httpbin.org/get'\n",
    "payload = {\"name\": \"Joseph\", \"ID\": \"123\"}\n",
    "\n",
    "#pass the dictionary payload to the params parameter of the get function\n",
    "r = requests.get(url_get, params=payload)\n",
    "\n",
    "r.url\n",
    "    "
   ]
  },
  {
   "cell_type": "code",
   "execution_count": 18,
   "id": "9dba570c",
   "metadata": {},
   "outputs": [
    {
     "name": "stdout",
     "output_type": "stream",
     "text": [
      "None\n"
     ]
    }
   ],
   "source": [
    "print(r.request.body)"
   ]
  },
  {
   "cell_type": "code",
   "execution_count": 19,
   "id": "119661d3",
   "metadata": {},
   "outputs": [
    {
     "data": {
      "text/plain": [
       "200"
      ]
     },
     "execution_count": 19,
     "metadata": {},
     "output_type": "execute_result"
    }
   ],
   "source": [
    "r.status_code"
   ]
  },
  {
   "cell_type": "code",
   "execution_count": 20,
   "id": "86faaa99",
   "metadata": {},
   "outputs": [
    {
     "data": {
      "text/plain": [
       "'{\\n  \"args\": {\\n    \"ID\": \"123\", \\n    \"name\": \"Joseph\"\\n  }, \\n  \"headers\": {\\n    \"Accept\": \"*/*\", \\n    \"Accept-Encoding\": \"gzip, deflate, br\", \\n    \"Cache-Control\": \"max-age=0\", \\n    \"Host\": \"httpbin.org\", \\n    \"User-Agent\": \"python-requests/2.31.0\", \\n    \"X-Amzn-Trace-Id\": \"Root=1-660c0560-0ae5d70c7f59b1e6623911cb\"\\n  }, \\n  \"origin\": \"41.217.1.69\", \\n  \"url\": \"http://httpbin.org/get?name=Joseph&ID=123\"\\n}\\n'"
      ]
     },
     "execution_count": 20,
     "metadata": {},
     "output_type": "execute_result"
    }
   ],
   "source": [
    "r.text"
   ]
  },
  {
   "cell_type": "code",
   "execution_count": 21,
   "id": "f29ec030",
   "metadata": {},
   "outputs": [
    {
     "data": {
      "text/plain": [
       "'application/json'"
      ]
     },
     "execution_count": 21,
     "metadata": {},
     "output_type": "execute_result"
    }
   ],
   "source": [
    "r.headers['Content-Type']"
   ]
  },
  {
   "cell_type": "code",
   "execution_count": 22,
   "id": "eb8f013e",
   "metadata": {},
   "outputs": [
    {
     "data": {
      "text/plain": [
       "{'args': {'ID': '123', 'name': 'Joseph'},\n",
       " 'headers': {'Accept': '*/*',\n",
       "  'Accept-Encoding': 'gzip, deflate, br',\n",
       "  'Cache-Control': 'max-age=0',\n",
       "  'Host': 'httpbin.org',\n",
       "  'User-Agent': 'python-requests/2.31.0',\n",
       "  'X-Amzn-Trace-Id': 'Root=1-660c0560-0ae5d70c7f59b1e6623911cb'},\n",
       " 'origin': '41.217.1.69',\n",
       " 'url': 'http://httpbin.org/get?name=Joseph&ID=123'}"
      ]
     },
     "execution_count": 22,
     "metadata": {},
     "output_type": "execute_result"
    }
   ],
   "source": [
    "r.json()"
   ]
  },
  {
   "cell_type": "code",
   "execution_count": 23,
   "id": "94b4346b",
   "metadata": {},
   "outputs": [
    {
     "data": {
      "text/plain": [
       "{'ID': '123', 'name': 'Joseph'}"
      ]
     },
     "execution_count": 23,
     "metadata": {},
     "output_type": "execute_result"
    }
   ],
   "source": [
    "r.json()['args']"
   ]
  },
  {
   "cell_type": "code",
   "execution_count": 24,
   "id": "8d421a10",
   "metadata": {},
   "outputs": [
    {
     "name": "stdout",
     "output_type": "stream",
     "text": [
      "POST request URL:  http://httpbin.org/post\n",
      "GET request URL:  http://httpbin.org/get?name=Joseph&ID=123\n"
     ]
    }
   ],
   "source": [
    "#Post Requests\n",
    "\n",
    "url_post = \"http://httpbin.org/post\"\n",
    "\n",
    "payload = {\"name\" : \"Joseph\", \"ID\": \"123\"}\n",
    "\n",
    "r_post = requests.post(url_post, data= payload)\n",
    "print(\"POST request URL: \", r_post.url)\n",
    "print(\"GET request URL: \", r.url)"
   ]
  },
  {
   "cell_type": "code",
   "execution_count": 25,
   "id": "dd99df2b",
   "metadata": {},
   "outputs": [
    {
     "name": "stdout",
     "output_type": "stream",
     "text": [
      "POST request URL:  name=Joseph&ID=123\n",
      "GET request URL:  None\n"
     ]
    }
   ],
   "source": [
    "print(\"POST request URL: \", r_post.request.body)\n",
    "print(\"GET request URL: \", r.request.body)"
   ]
  },
  {
   "cell_type": "code",
   "execution_count": 26,
   "id": "d3a4684f",
   "metadata": {},
   "outputs": [
    {
     "name": "stdout",
     "output_type": "stream",
     "text": [
      "Requirement already satisfied: randomuser in c:\\users\\user\\anaconda3\\anaconda3 folder\\lib\\site-packages (1.6)\n",
      "Note: you may need to restart the kernel to use updated packages.\n"
     ]
    }
   ],
   "source": [
    "#pip install randomuser"
   ]
  },
  {
   "cell_type": "code",
   "execution_count": 27,
   "id": "b70c269a",
   "metadata": {},
   "outputs": [],
   "source": [
    "from randomuser import RandomUser\n",
    "import pandas as pd"
   ]
  },
  {
   "cell_type": "code",
   "execution_count": null,
   "id": "d363e6cc",
   "metadata": {},
   "outputs": [],
   "source": []
  }
 ],
 "metadata": {
  "kernelspec": {
   "display_name": "Python 3 (ipykernel)",
   "language": "python",
   "name": "python3"
  },
  "language_info": {
   "codemirror_mode": {
    "name": "ipython",
    "version": 3
   },
   "file_extension": ".py",
   "mimetype": "text/x-python",
   "name": "python",
   "nbconvert_exporter": "python",
   "pygments_lexer": "ipython3",
   "version": "3.11.5"
  }
 },
 "nbformat": 4,
 "nbformat_minor": 5
}
