{
 "cells": [
  {
   "cell_type": "code",
   "execution_count": 1,
   "id": "0d5e15d8-da54-4029-95c5-7e38ed119b70",
   "metadata": {
    "tags": []
   },
   "outputs": [],
   "source": [
    "#pip install ipython-sql\n"
   ]
  },
  {
   "cell_type": "code",
   "execution_count": 2,
   "id": "0f8cac22-d818-45ca-86b2-dddaa674701a",
   "metadata": {
    "tags": []
   },
   "outputs": [],
   "source": [
    "import sqlite3\n",
    "\n"
   ]
  },
  {
   "cell_type": "code",
   "execution_count": 3,
   "id": "e9ad6403-8240-45e5-9963-0d199db1f558",
   "metadata": {
    "tags": []
   },
   "outputs": [],
   "source": [
    "# Establishing a connection to a database\n",
    "conn = sqlite3.connect('HR.db')"
   ]
  },
  {
   "cell_type": "code",
   "execution_count": 4,
   "id": "c66a9e6c-b873-4595-bba1-b19b41a73928",
   "metadata": {
    "tags": []
   },
   "outputs": [],
   "source": [
    "# loading the external sql module\n",
    "%load_ext sql\n"
   ]
  },
  {
   "cell_type": "code",
   "execution_count": 5,
   "id": "4832ec6e-fd49-43f4-a911-9d8b14a14656",
   "metadata": {
    "tags": []
   },
   "outputs": [],
   "source": [
    "# establish a connection for the sql magic module to the sql server being accessed\n",
    "%sql sqlite:///HR.db"
   ]
  },
  {
   "cell_type": "code",
   "execution_count": 6,
   "id": "b8557d6d-f55b-4ac0-bfc4-25d182625e4d",
   "metadata": {
    "tags": []
   },
   "outputs": [
    {
     "name": "stdout",
     "output_type": "stream",
     "text": [
      " * sqlite:///HR.db\n",
      "(sqlite3.OperationalError) no such table: Employee\n",
      "[SQL: SELECT * FROM Employee]\n",
      "(Background on this error at: https://sqlalche.me/e/20/e3q8)\n"
     ]
    }
   ],
   "source": [
    "%sql SELECT * FROM Employee"
   ]
  },
  {
   "cell_type": "code",
   "execution_count": 9,
   "id": "fa52fd5f-b319-4386-8e7b-6b38285e25c7",
   "metadata": {},
   "outputs": [],
   "source": [
    "conn.close()"
   ]
  },
  {
   "cell_type": "code",
   "execution_count": null,
   "id": "8dfd9a44-8aa1-447b-816e-fd2ce290e4e8",
   "metadata": {},
   "outputs": [],
   "source": []
  }
 ],
 "metadata": {
  "kernelspec": {
   "display_name": "Python 3",
   "language": "python",
   "name": "python3"
  },
  "language_info": {
   "codemirror_mode": {
    "name": "ipython",
    "version": 3
   },
   "file_extension": ".py",
   "mimetype": "text/x-python",
   "name": "python",
   "nbconvert_exporter": "python",
   "pygments_lexer": "ipython3",
   "version": "3.8.8"
  }
 },
 "nbformat": 4,
 "nbformat_minor": 5
}
