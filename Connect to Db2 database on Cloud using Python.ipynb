{
 "cells": [
  {
   "cell_type": "code",
   "execution_count": null,
   "id": "c95146b9-56ae-4149-84e4-d302983f0d16",
   "metadata": {},
   "outputs": [],
   "source": [
    "pip install ibm_db\n"
   ]
  }
 ],
 "metadata": {
  "kernelspec": {
   "display_name": "Python 3 (ipykernel)",
   "language": "python",
   "name": "python3"
  },
  "language_info": {
   "codemirror_mode": {
    "name": "ipython",
    "version": 3
   },
   "file_extension": ".py",
   "mimetype": "text/x-python",
   "name": "python",
   "nbconvert_exporter": "python",
   "pygments_lexer": "ipython3",
   "version": "3.11.5"
  }
 },
 "nbformat": 4,
 "nbformat_minor": 5
}
