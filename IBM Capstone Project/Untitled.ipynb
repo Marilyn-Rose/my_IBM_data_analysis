{
 "cells": [
  {
   "cell_type": "code",
   "execution_count": null,
   "id": "e6dc3837-9cbe-4799-b183-bc307627b15e",
   "metadata": {
    "tags": []
   },
   "outputs": [],
   "source": [
    "import flask\n",
    "\n",
    "app = flask.Flask(__name__)  # creates a flask application\n",
    "\n",
    "@app.route('/', methods=['GET'])\n",
    "def home():\n",
    "\n",
    "    return \"<h1> Distant Archive<h1><p>This site is a prototype API for distant reading of science fiction novels. <p>\"\n",
    "\n",
    "app.run()"
   ]
  },
  {
   "cell_type": "code",
   "execution_count": null,
   "id": "79699f68-8acc-4906-8472-78d8b6090985",
   "metadata": {},
   "outputs": [],
   "source": []
  }
 ],
 "metadata": {
  "kernelspec": {
   "display_name": "Python 3 (ipykernel)",
   "language": "python",
   "name": "python3"
  },
  "language_info": {
   "codemirror_mode": {
    "name": "ipython",
    "version": 3
   },
   "file_extension": ".py",
   "mimetype": "text/x-python",
   "name": "python",
   "nbconvert_exporter": "python",
   "pygments_lexer": "ipython3",
   "version": "3.11.5"
  }
 },
 "nbformat": 4,
 "nbformat_minor": 5
}
