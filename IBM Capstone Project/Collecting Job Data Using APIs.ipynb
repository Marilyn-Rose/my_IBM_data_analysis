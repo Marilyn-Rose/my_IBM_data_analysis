{
 "cells": [
  {
   "cell_type": "markdown",
   "id": "85d1df8c-4b91-43b1-8375-f3742c07c4e7",
   "metadata": {},
   "source": [
    "## Warm-Up Exercise\n",
    "\n",
    "Using an API, let us find out who currently are on the International Space Station (ISS).\n",
    "The API at http://api.open-notify.org/astros.json gives the information of astronauts currently on ISS in json format.\n",
    "You can read more about this API at http://open-notify.org/Open-Notify-API/People-In-Space/"
   ]
  },
  {
   "cell_type": "code",
   "execution_count": 1,
   "id": "ee86bdf2-3354-4b5a-a8c5-e7f37841e54e",
   "metadata": {
    "tags": []
   },
   "outputs": [],
   "source": [
    "import requests\n",
    "import pandas as pd\n"
   ]
  },
  {
   "cell_type": "code",
   "execution_count": 2,
   "id": "29d334ff-0ff6-4ef3-834c-d1716dbf7943",
   "metadata": {
    "tags": []
   },
   "outputs": [],
   "source": [
    "api_url = \"http://api.open-notify.org/astros.json\" # this url gives use the astronaut data"
   ]
  },
  {
   "cell_type": "code",
   "execution_count": 3,
   "id": "87c32fe1-5ad1-4415-b14f-45b2f651b4e2",
   "metadata": {
    "tags": []
   },
   "outputs": [],
   "source": [
    "response = requests.get(api_url)"
   ]
  },
  {
   "cell_type": "code",
   "execution_count": 4,
   "id": "d1f0e388-9915-4fea-b2b1-d30bd6475ed3",
   "metadata": {
    "tags": []
   },
   "outputs": [],
   "source": [
    "if response.ok:             # if all is well() no errors, no network timeouts)\n",
    "    data = response.json()  # store the result in json format in a variable called data\n",
    "                            # the variable data is of type dictionary."
   ]
  },
  {
   "cell_type": "code",
   "execution_count": 5,
   "id": "0f89a223-dcc0-4de6-9ecd-8ccb508c38ce",
   "metadata": {
    "tags": []
   },
   "outputs": [
    {
     "name": "stdout",
     "output_type": "stream",
     "text": [
      "{'people': [{'craft': 'ISS', 'name': 'Oleg Kononenko'}, {'craft': 'ISS', 'name': 'Nikolai Chub'}, {'craft': 'ISS', 'name': 'Tracy Caldwell Dyson'}, {'craft': 'ISS', 'name': 'Matthew Dominick'}, {'craft': 'ISS', 'name': 'Michael Barratt'}, {'craft': 'ISS', 'name': 'Jeanette Epps'}, {'craft': 'ISS', 'name': 'Alexander Grebenkin'}, {'craft': 'ISS', 'name': 'Butch Wilmore'}, {'craft': 'ISS', 'name': 'Sunita Williams'}, {'craft': 'Tiangong', 'name': 'Li Guangsu'}, {'craft': 'Tiangong', 'name': 'Li Cong'}, {'craft': 'Tiangong', 'name': 'Ye Guangfu'}], 'number': 12, 'message': 'success'}\n"
     ]
    }
   ],
   "source": [
    "print(data)"
   ]
  },
  {
   "cell_type": "markdown",
   "id": "b57811b5-bf48-4e59-bedc-06296c11ce11",
   "metadata": {},
   "source": [
    "Print the number of astronauts currently on ISS"
   ]
  },
  {
   "cell_type": "code",
   "execution_count": 6,
   "id": "2179421c-3985-498e-9751-bba13b532e87",
   "metadata": {
    "tags": []
   },
   "outputs": [
    {
     "name": "stdout",
     "output_type": "stream",
     "text": [
      "12\n"
     ]
    }
   ],
   "source": [
    "print(data.get('number'))"
   ]
  },
  {
   "cell_type": "markdown",
   "id": "835006f8-c3da-4c22-b16c-c2095c32e0c6",
   "metadata": {},
   "source": [
    " Print the names of the astronauts currently on ISS"
   ]
  },
  {
   "cell_type": "code",
   "execution_count": 7,
   "id": "9c9765a7-dfea-4f7e-a832-633a0ead7eba",
   "metadata": {
    "tags": []
   },
   "outputs": [
    {
     "name": "stdout",
     "output_type": "stream",
     "text": [
      "There are 12 astronauts on ISS\n",
      "And their names are :\n",
      "Oleg Kononenko\n",
      "Nikolai Chub\n",
      "Tracy Caldwell Dyson\n",
      "Matthew Dominick\n",
      "Michael Barratt\n",
      "Jeanette Epps\n",
      "Alexander Grebenkin\n",
      "Butch Wilmore\n",
      "Sunita Williams\n",
      "Li Guangsu\n",
      "Li Cong\n",
      "Ye Guangfu\n"
     ]
    }
   ],
   "source": [
    "astronauts = data.get('people')\n",
    "print('There are {} astronauts on ISS'.format(len(astronauts)))\n",
    "print('And their names are :')\n",
    "for astronaut in astronauts:\n",
    "    print(astronaut.get('name'))"
   ]
  },
  {
   "cell_type": "markdown",
   "id": "04028c24-19a8-4dca-bb2b-572e61de499a",
   "metadata": {},
   "source": [
    "# Lab: Collect Jobs Data using GitHub Jobs API\n",
    "\n",
    "### Objective: Determine the number of jobs currently open for various technologies and for various locations.\n",
    "\n",
    "Collect the number of job postings for the following locations using the API:\n",
    "* Los Angeles\n",
    "* New York\n",
    "* San Fransisco\n",
    "* Washington DC\n",
    "* Seattle\n",
    "* Austin\n",
    "* Detroit"
   ]
  },
  {
   "cell_type": "code",
   "execution_count": 8,
   "id": "e0068a1c-40e2-428b-8324-82515f73f2bf",
   "metadata": {
    "tags": []
   },
   "outputs": [],
   "source": [
    "# Import required libraries\n",
    "import pandas as pd\n",
    "import json\n"
   ]
  },
  {
   "cell_type": "markdown",
   "id": "f8f66ef0-89ea-4b10-a485-a64ff22946f3",
   "metadata": {},
   "source": [
    "#### Write a function to get the number of jobs for the Python technology.\n",
    "> Note: While using the lab you need to pass the **payload** information for the **params** attribute in the form of **key** **value** pairs.\n",
    "  Refer the ungraded **rest api lab** in the course **Python for Data Science, AI & Development**  <a href=\"https://www.coursera.org/learn/python-for-applied-data-science-ai/ungradedLti/P6sW8/hands-on-lab-access-rest-apis-request-http?utm_medium=Exinfluencer&utm_source=Exinfluencer&utm_content=000026UJ&utm_term=10006555&utm_id=NA-SkillsNetwork-Channel-SkillsNetworkCoursesIBMDA0321ENSkillsNetwork928-2022-01-01\">link</a>\n",
    "  \n",
    " ##### The keys in the json are \n",
    " * Job Title\n",
    " \n",
    " * Job Experience Required\n",
    " \n",
    " * Key Skills\n",
    " \n",
    " * Role Category\n",
    " \n",
    " * Location\n",
    " \n",
    " * Functional Area\n",
    " \n",
    " * Industry\n",
    " \n",
    " * Role \n",
    " \n",
    "You can also view  the json file contents  from the following <a href = \"https://cf-courses-data.s3.us.cloud-object-storage.appdomain.cloud/IBM-DA0321EN-SkillsNetwork/labs/module%201/Accessing%20Data%20Using%20APIs/jobs.json\">json</a> URL.\n"
   ]
  },
  {
   "cell_type": "code",
   "execution_count": 126,
   "id": "4bbcecab-0e85-4cee-8a50-1ce319d865c5",
   "metadata": {
    "tags": []
   },
   "outputs": [],
   "source": [
    "api_url = 'http://127.0.0.1:5000/data/all'\n",
    "def get_number_of_jobs_T(technology):\n",
    "    number_of_jobs = 0\n",
    "    \n",
    "    # Make a request to the Flask API with the technology as a query parameter\n",
    "    response = requests.get(api_url, params={'key Skills': technology})\n",
    "    \n",
    "    # Check if the request was successful\n",
    "    if response.status_code == 200:\n",
    "        # Convert the response data to JSON\n",
    "        jobs_data = response.json()\n",
    "        # Count the number of jobs returned\n",
    "        number_of_jobs = len(jobs_data)\n",
    "    else:\n",
    "        print(f\"Error fetching data for {technology}: {response.status_code}\")\n",
    "    \n",
    "    return technology, number_of_jobs"
   ]
  },
  {
   "cell_type": "code",
   "execution_count": 145,
   "id": "48c5f872-4745-43bb-b94b-d283825a7bdd",
   "metadata": {
    "tags": []
   },
   "outputs": [
    {
     "name": "stdout",
     "output_type": "stream",
     "text": [
      "Oracle: 27005 jobs currently open\n"
     ]
    }
   ],
   "source": [
    "# calling the function\n",
    "tech, num_jobs = get_number_of_jobs_T('Oracle')\n",
    "print(f\"{tech}: {num_jobs} jobs currently open\")"
   ]
  },
  {
   "cell_type": "markdown",
   "id": "b61083ce-06d9-4d2a-b71f-5be138ff48de",
   "metadata": {
    "tags": []
   },
   "source": [
    "#### Write a function to find number of jobs in US for a location of your choice"
   ]
  },
  {
   "cell_type": "code",
   "execution_count": 134,
   "id": "8cecf3c8-8f09-4927-acee-b6453ff21196",
   "metadata": {
    "tags": []
   },
   "outputs": [],
   "source": [
    "def get_number_jobs_L(location):\n",
    "    number_of_jobs = 0\n",
    "    \n",
    "    # Make a request to the Flask API with the location as a queery parameter\n",
    "    response = requests.get(api_url, params={'Location': location})\n",
    "    \n",
    "    # check if the request was successful:\n",
    "    if response.status_code == 200:\n",
    "        #convert the response data into json\n",
    "        jobs_data = response.json()\n",
    "        # count the number of jobs returned\n",
    "        number_of_jobs = len(jobs_data)\n",
    "    else:\n",
    "         print(f\"Error fetching data for {location}: {response.status_code}\")\n",
    "    \n",
    "    return location, number_of_jobs"
   ]
  },
  {
   "cell_type": "markdown",
   "id": "90982c30-3362-4d80-b62a-5102eafc42e3",
   "metadata": {
    "tags": []
   },
   "source": [
    "Call the function for Los Angeles and check if it is working.\n"
   ]
  },
  {
   "cell_type": "code",
   "execution_count": 146,
   "id": "c4e3b97e-910a-4b24-86cb-12652983b45b",
   "metadata": {
    "tags": []
   },
   "outputs": [
    {
     "name": "stdout",
     "output_type": "stream",
     "text": [
      "New York currently has 27005 jobs currently open\n"
     ]
    }
   ],
   "source": [
    "loc, num_jobs = get_number_jobs_L('New York')\n",
    "print(f\"{loc} currently has {num_jobs} jobs currently open\")"
   ]
  },
  {
   "cell_type": "markdown",
   "id": "3b139593-a912-471e-9e77-368462166deb",
   "metadata": {},
   "source": [
    "#### Store the results in an excel file\n",
    "\n",
    "Create a python list of all technologies for which you need the number of jobs postings"
   ]
  },
  {
   "cell_type": "code",
   "execution_count": 141,
   "id": "b6e99bf6-aea5-45be-96a1-c282c052aa3f",
   "metadata": {
    "tags": []
   },
   "outputs": [],
   "source": [
    "# create an empty list of all technologies list:\n",
    "tech = [\n",
    "    'Python',\n",
    "    'Java',\n",
    "    'C++',\n",
    "    'JavaScript',\n",
    "    'C#',\n",
    "    'Oracle',\n",
    "    'SQL Server',\n",
    "    'MySL Server',\n",
    "    'PostgreSQL',\n",
    "    'MongoDB'\n",
    "]\n",
    "\n",
    "for tech in technologies:\n",
    "    technology, num_jobs = \n"
   ]
  },
  {
   "cell_type": "markdown",
   "id": "27dd9a95-4080-4639-8712-f7435f095285",
   "metadata": {},
   "source": [
    "Import libraries required to create excel spreadsheet"
   ]
  }
 ],
 "metadata": {
  "kernelspec": {
   "display_name": "Python 3 (ipykernel)",
   "language": "python",
   "name": "python3"
  },
  "language_info": {
   "codemirror_mode": {
    "name": "ipython",
    "version": 3
   },
   "file_extension": ".py",
   "mimetype": "text/x-python",
   "name": "python",
   "nbconvert_exporter": "python",
   "pygments_lexer": "ipython3",
   "version": "3.12.4"
  }
 },
 "nbformat": 4,
 "nbformat_minor": 5
}
