{
 "cells": [
  {
   "cell_type": "code",
   "execution_count": 1,
   "id": "cce78d27-8f18-4ee3-bdac-cc742fc32cb5",
   "metadata": {
    "tags": []
   },
   "outputs": [],
   "source": [
    "import pandas as pd\n",
    "import requests"
   ]
  },
  {
   "cell_type": "code",
   "execution_count": 2,
   "id": "dbb3f372-1bea-474b-965b-ca4f4976f688",
   "metadata": {
    "tags": []
   },
   "outputs": [],
   "source": [
    "file_path = \"https://cf-courses-data.s3.us.cloud-object-storage.appdomain.cloud/IBM-DA0321EN-SkillsNetwork/LargeData/m1_survey_data.csv\"\n",
    "df = pd.read_csv(file_path)"
   ]
  },
  {
   "cell_type": "markdown",
   "id": "de415715-e3c1-49f9-8242-2a506df08e1e",
   "metadata": {},
   "source": [
    "### Finding duplicates \n",
    "\n",
    "How many duplicate rows exist in the dataframe?"
   ]
  },
  {
   "cell_type": "code",
   "execution_count": 3,
   "id": "23d9fc34-4f0d-4dea-ac2d-0681a9962ec2",
   "metadata": {
    "tags": []
   },
   "outputs": [
    {
     "data": {
      "text/plain": [
       "154"
      ]
     },
     "execution_count": 3,
     "metadata": {},
     "output_type": "execute_result"
    }
   ],
   "source": [
    "# Number of duplicated rows that exist in the dataframe:\n",
    "df.duplicated().sum()"
   ]
  },
  {
   "cell_type": "markdown",
   "id": "8d016f18-2fbc-4f14-b30d-3718b697a3a6",
   "metadata": {},
   "source": [
    "How many duplicate values are there in the column Respondent?"
   ]
  },
  {
   "cell_type": "code",
   "execution_count": 4,
   "id": "4da79df5-43ba-444a-a4a4-9d21e224a60b",
   "metadata": {
    "tags": []
   },
   "outputs": [
    {
     "name": "stdout",
     "output_type": "stream",
     "text": [
      "The number of duplicate values in Respondent : 154\n"
     ]
    }
   ],
   "source": [
    "print('The number of duplicate values in Respondent :', df['Respondent'].duplicated().sum())"
   ]
  },
  {
   "cell_type": "markdown",
   "id": "ace685fe-911f-4276-8ec2-133cd7ff89a4",
   "metadata": {},
   "source": [
    "### Removing the duplicates\n",
    "\n",
    "Remove the duplicate rows from the dataframe"
   ]
  },
  {
   "cell_type": "code",
   "execution_count": 5,
   "id": "277f2354-255c-487e-8214-ba231a00aff5",
   "metadata": {
    "tags": []
   },
   "outputs": [],
   "source": [
    "# This code will drop all the rows with duplicates with 'drop_duplicates'\n",
    "df.drop_duplicates(inplace=True)"
   ]
  },
  {
   "cell_type": "markdown",
   "id": "58716211-3f54-43fc-9c79-71b2ea493b2d",
   "metadata": {},
   "source": [
    "Verify if duplicates were actually dropped"
   ]
  },
  {
   "cell_type": "code",
   "execution_count": 6,
   "id": "33cc8b88-ed98-4d3b-9507-ada383d6f247",
   "metadata": {
    "tags": []
   },
   "outputs": [
    {
     "data": {
      "text/plain": [
       "False"
      ]
     },
     "execution_count": 6,
     "metadata": {},
     "output_type": "execute_result"
    }
   ],
   "source": [
    "df.duplicated().any()"
   ]
  },
  {
   "cell_type": "markdown",
   "id": "49ca4bb8-a52c-42f3-84db-38f199529dc2",
   "metadata": {},
   "source": [
    "After removing the duplicate rows, how many unique rows are there in the column Respondent?"
   ]
  },
  {
   "cell_type": "code",
   "execution_count": 30,
   "id": "84265d78-82df-48cf-b4b3-57bf09e52f35",
   "metadata": {
    "tags": []
   },
   "outputs": [
    {
     "data": {
      "text/plain": [
       "11398"
      ]
     },
     "execution_count": 30,
     "metadata": {},
     "output_type": "execute_result"
    }
   ],
   "source": [
    "df['Respondent'].nunique()"
   ]
  },
  {
   "cell_type": "markdown",
   "id": "3cf6b1e3-d762-4502-99be-f7a6561c6e02",
   "metadata": {
    "tags": []
   },
   "source": [
    "After removing the duplicate rows, how many respondents are being paid yearly?"
   ]
  },
  {
   "cell_type": "code",
   "execution_count": 24,
   "id": "4023dc0e-97c2-4cf4-8335-9d371f3435b6",
   "metadata": {
    "tags": []
   },
   "outputs": [
    {
     "data": {
      "text/plain": [
       "6073"
      ]
     },
     "execution_count": 24,
     "metadata": {},
     "output_type": "execute_result"
    }
   ],
   "source": [
    "(df['CompFreq'] == 'Yearly').sum()"
   ]
  },
  {
   "cell_type": "markdown",
   "id": "d75ac6a9-2045-4a20-8120-b8ef269fa702",
   "metadata": {},
   "source": [
    "### Finding Missing values"
   ]
  },
  {
   "cell_type": "markdown",
   "id": "8ddfb476-3f6d-4fd9-8411-c8611335a821",
   "metadata": {},
   "source": [
    "Find the missing values for all columns"
   ]
  },
  {
   "cell_type": "code",
   "execution_count": 7,
   "id": "57e93b76-8b56-4ccb-995f-828f8b35260c",
   "metadata": {
    "tags": []
   },
   "outputs": [],
   "source": [
    "missing_values = df.isnull()"
   ]
  },
  {
   "cell_type": "code",
   "execution_count": 16,
   "id": "0ea98685-7596-4e22-b9fd-eb3ee78529e4",
   "metadata": {
    "collapsed": true,
    "jupyter": {
     "outputs_hidden": true
    },
    "tags": []
   },
   "outputs": [
    {
     "name": "stdout",
     "output_type": "stream",
     "text": [
      "Respondent\n",
      "False    11398\n",
      "Name: count, dtype: int64\n",
      "--------------------\n",
      "MainBranch\n",
      "False    11398\n",
      "Name: count, dtype: int64\n",
      "--------------------\n",
      "Hobbyist\n",
      "False    11398\n",
      "Name: count, dtype: int64\n",
      "--------------------\n",
      "OpenSourcer\n",
      "False    11398\n",
      "Name: count, dtype: int64\n",
      "--------------------\n",
      "OpenSource\n",
      "False    11317\n",
      "True        81\n",
      "Name: count, dtype: int64\n",
      "--------------------\n",
      "Employment\n",
      "False    11398\n",
      "Name: count, dtype: int64\n",
      "--------------------\n",
      "Country\n",
      "False    11398\n",
      "Name: count, dtype: int64\n",
      "--------------------\n",
      "Student\n",
      "False    11347\n",
      "True        51\n",
      "Name: count, dtype: int64\n",
      "--------------------\n",
      "EdLevel\n",
      "False    11286\n",
      "True       112\n",
      "Name: count, dtype: int64\n",
      "--------------------\n",
      "UndergradMajor\n",
      "False    10661\n",
      "True       737\n",
      "Name: count, dtype: int64\n",
      "--------------------\n",
      "EduOther\n",
      "False    11234\n",
      "True       164\n",
      "Name: count, dtype: int64\n",
      "--------------------\n",
      "OrgSize\n",
      "False    11302\n",
      "True        96\n",
      "Name: count, dtype: int64\n",
      "--------------------\n",
      "DevType\n",
      "False    11333\n",
      "True        65\n",
      "Name: count, dtype: int64\n",
      "--------------------\n",
      "YearsCode\n",
      "False    11389\n",
      "True         9\n",
      "Name: count, dtype: int64\n",
      "--------------------\n",
      "Age1stCode\n",
      "False    11385\n",
      "True        13\n",
      "Name: count, dtype: int64\n",
      "--------------------\n",
      "YearsCodePro\n",
      "False    11382\n",
      "True        16\n",
      "Name: count, dtype: int64\n",
      "--------------------\n",
      "CareerSat\n",
      "False    11398\n",
      "Name: count, dtype: int64\n",
      "--------------------\n",
      "JobSat\n",
      "False    11397\n",
      "True         1\n",
      "Name: count, dtype: int64\n",
      "--------------------\n",
      "MgrIdiot\n",
      "False    10905\n",
      "True       493\n",
      "Name: count, dtype: int64\n",
      "--------------------\n",
      "MgrMoney\n",
      "False    10901\n",
      "True       497\n",
      "Name: count, dtype: int64\n",
      "--------------------\n",
      "MgrWant\n",
      "False    10905\n",
      "True       493\n",
      "Name: count, dtype: int64\n",
      "--------------------\n",
      "JobSeek\n",
      "False    11398\n",
      "Name: count, dtype: int64\n",
      "--------------------\n",
      "LastHireDate\n",
      "False    11398\n",
      "Name: count, dtype: int64\n",
      "--------------------\n",
      "LastInt\n",
      "False    10985\n",
      "True       413\n",
      "Name: count, dtype: int64\n",
      "--------------------\n",
      "FizzBuzz\n",
      "False    11361\n",
      "True        37\n",
      "Name: count, dtype: int64\n",
      "--------------------\n",
      "JobFactors\n",
      "False    11395\n",
      "True         3\n",
      "Name: count, dtype: int64\n",
      "--------------------\n",
      "ResumeUpdate\n",
      "False    11359\n",
      "True        39\n",
      "Name: count, dtype: int64\n",
      "--------------------\n",
      "CurrencySymbol\n",
      "False    11398\n",
      "Name: count, dtype: int64\n",
      "--------------------\n",
      "CurrencyDesc\n",
      "False    11398\n",
      "Name: count, dtype: int64\n",
      "--------------------\n",
      "CompTotal\n",
      "False    10589\n",
      "True       809\n",
      "Name: count, dtype: int64\n",
      "--------------------\n",
      "CompFreq\n",
      "False    11192\n",
      "True       206\n",
      "Name: count, dtype: int64\n",
      "--------------------\n",
      "ConvertedComp\n",
      "False    10582\n",
      "True       816\n",
      "Name: count, dtype: int64\n",
      "--------------------\n",
      "WorkWeekHrs\n",
      "False    11276\n",
      "True       122\n",
      "Name: count, dtype: int64\n",
      "--------------------\n",
      "WorkPlan\n",
      "False    11277\n",
      "True       121\n",
      "Name: count, dtype: int64\n",
      "--------------------\n",
      "WorkChallenge\n",
      "False    11234\n",
      "True       164\n",
      "Name: count, dtype: int64\n",
      "--------------------\n",
      "WorkRemote\n",
      "False    11390\n",
      "True         8\n",
      "Name: count, dtype: int64\n",
      "--------------------\n",
      "WorkLoc\n",
      "False    11366\n",
      "True        32\n",
      "Name: count, dtype: int64\n",
      "--------------------\n",
      "ImpSyn\n",
      "False    11393\n",
      "True         5\n",
      "Name: count, dtype: int64\n",
      "--------------------\n",
      "CodeRev\n",
      "False    11397\n",
      "True         1\n",
      "Name: count, dtype: int64\n",
      "--------------------\n",
      "CodeRevHrs\n",
      "False    8972\n",
      "True     2426\n",
      "Name: count, dtype: int64\n",
      "--------------------\n",
      "UnitTests\n",
      "False    11369\n",
      "True        29\n",
      "Name: count, dtype: int64\n",
      "--------------------\n",
      "PurchaseHow\n",
      "False    11202\n",
      "True       196\n",
      "Name: count, dtype: int64\n",
      "--------------------\n",
      "PurchaseWhat\n",
      "False    11360\n",
      "True        38\n",
      "Name: count, dtype: int64\n",
      "--------------------\n",
      "LanguageWorkedWith\n",
      "False    11387\n",
      "True        11\n",
      "Name: count, dtype: int64\n",
      "--------------------\n",
      "LanguageDesireNextYear\n",
      "False    11264\n",
      "True       134\n",
      "Name: count, dtype: int64\n",
      "--------------------\n",
      "DatabaseWorkedWith\n",
      "False    10945\n",
      "True       453\n",
      "Name: count, dtype: int64\n",
      "--------------------\n",
      "DatabaseDesireNextYear\n",
      "False    10356\n",
      "True      1042\n",
      "Name: count, dtype: int64\n",
      "--------------------\n",
      "PlatformWorkedWith\n",
      "False    10987\n",
      "True       411\n",
      "Name: count, dtype: int64\n",
      "--------------------\n",
      "PlatformDesireNextYear\n",
      "False    10854\n",
      "True       544\n",
      "Name: count, dtype: int64\n",
      "--------------------\n",
      "WebFrameWorkedWith\n",
      "False    10005\n",
      "True      1393\n",
      "Name: count, dtype: int64\n",
      "--------------------\n",
      "WebFrameDesireNextYear\n",
      "False    9781\n",
      "True     1617\n",
      "Name: count, dtype: int64\n",
      "--------------------\n",
      "MiscTechWorkedWith\n",
      "False    9216\n",
      "True     2182\n",
      "Name: count, dtype: int64\n",
      "--------------------\n",
      "MiscTechDesireNextYear\n",
      "False    9943\n",
      "True     1455\n",
      "Name: count, dtype: int64\n",
      "--------------------\n",
      "DevEnviron\n",
      "False    11369\n",
      "True        29\n",
      "Name: count, dtype: int64\n",
      "--------------------\n",
      "OpSys\n",
      "False    11364\n",
      "True        34\n",
      "Name: count, dtype: int64\n",
      "--------------------\n",
      "Containers\n",
      "False    11316\n",
      "True        82\n",
      "Name: count, dtype: int64\n",
      "--------------------\n",
      "BlockchainOrg\n",
      "False    9076\n",
      "True     2322\n",
      "Name: count, dtype: int64\n",
      "--------------------\n",
      "BlockchainIs\n",
      "False    8788\n",
      "True     2610\n",
      "Name: count, dtype: int64\n",
      "--------------------\n",
      "BetterLife\n",
      "False    11300\n",
      "True        98\n",
      "Name: count, dtype: int64\n",
      "--------------------\n",
      "ITperson\n",
      "False    11363\n",
      "True        35\n",
      "Name: count, dtype: int64\n",
      "--------------------\n",
      "OffOn\n",
      "False    11360\n",
      "True        38\n",
      "Name: count, dtype: int64\n",
      "--------------------\n",
      "SocialMedia\n",
      "False    11105\n",
      "True       293\n",
      "Name: count, dtype: int64\n",
      "--------------------\n",
      "Extraversion\n",
      "False    11378\n",
      "True        20\n",
      "Name: count, dtype: int64\n",
      "--------------------\n",
      "ScreenName\n",
      "False    10891\n",
      "True       507\n",
      "Name: count, dtype: int64\n",
      "--------------------\n",
      "SOVisit1st\n",
      "False    11073\n",
      "True       325\n",
      "Name: count, dtype: int64\n",
      "--------------------\n",
      "SOVisitFreq\n",
      "False    11393\n",
      "True         5\n",
      "Name: count, dtype: int64\n",
      "--------------------\n",
      "SOVisitTo\n",
      "False    11397\n",
      "True         1\n",
      "Name: count, dtype: int64\n",
      "--------------------\n",
      "SOFindAnswer\n",
      "False    11395\n",
      "True         3\n",
      "Name: count, dtype: int64\n",
      "--------------------\n",
      "SOTimeSaved\n",
      "False    11348\n",
      "True        50\n",
      "Name: count, dtype: int64\n",
      "--------------------\n",
      "SOHowMuchTime\n",
      "False    9481\n",
      "True     1917\n",
      "Name: count, dtype: int64\n",
      "--------------------\n",
      "SOAccount\n",
      "False    11397\n",
      "True         1\n",
      "Name: count, dtype: int64\n",
      "--------------------\n",
      "SOPartFreq\n",
      "False    10270\n",
      "True      1128\n",
      "Name: count, dtype: int64\n",
      "--------------------\n",
      "SOJobs\n",
      "False    11392\n",
      "True         6\n",
      "Name: count, dtype: int64\n",
      "--------------------\n",
      "EntTeams\n",
      "False    11393\n",
      "True         5\n",
      "Name: count, dtype: int64\n",
      "--------------------\n",
      "SOComm\n",
      "False    11398\n",
      "Name: count, dtype: int64\n",
      "--------------------\n",
      "WelcomeChange\n",
      "False    11313\n",
      "True        85\n",
      "Name: count, dtype: int64\n",
      "--------------------\n",
      "SONewContent\n",
      "False    9433\n",
      "True     1965\n",
      "Name: count, dtype: int64\n",
      "--------------------\n",
      "Age\n",
      "False    11111\n",
      "True       287\n",
      "Name: count, dtype: int64\n",
      "--------------------\n",
      "Gender\n",
      "False    11325\n",
      "True        73\n",
      "Name: count, dtype: int64\n",
      "--------------------\n",
      "Trans\n",
      "False    11275\n",
      "True       123\n",
      "Name: count, dtype: int64\n",
      "--------------------\n",
      "Sexuality\n",
      "False    10856\n",
      "True       542\n",
      "Name: count, dtype: int64\n",
      "--------------------\n",
      "Ethnicity\n",
      "False    10723\n",
      "True       675\n",
      "Name: count, dtype: int64\n",
      "--------------------\n",
      "Dependents\n",
      "False    11258\n",
      "True       140\n",
      "Name: count, dtype: int64\n",
      "--------------------\n",
      "SurveyLength\n",
      "False    11379\n",
      "True        19\n",
      "Name: count, dtype: int64\n",
      "--------------------\n",
      "SurveyEase\n",
      "False    11384\n",
      "True        14\n",
      "Name: count, dtype: int64\n",
      "--------------------\n"
     ]
    }
   ],
   "source": [
    "# This for loop will give a list of all the columns and the number of missing values\n",
    "for column in missing_values.columns.values.tolist():\n",
    "    print(missing_values[column].value_counts())\n",
    "    print('--------------------')"
   ]
  },
  {
   "cell_type": "markdown",
   "id": "4dfefe6c-316c-4950-b768-b7abd2d1a2ce",
   "metadata": {},
   "source": [
    "Find out how many rows are missing in the column 'WorkLoc'"
   ]
  },
  {
   "cell_type": "code",
   "execution_count": 9,
   "id": "aa4cd6ef-1264-41f2-afd1-e9664cf90426",
   "metadata": {
    "tags": []
   },
   "outputs": [
    {
     "data": {
      "text/plain": [
       "WorkLoc\n",
       "False    11366\n",
       "True        32\n",
       "Name: count, dtype: int64"
      ]
     },
     "execution_count": 9,
     "metadata": {},
     "output_type": "execute_result"
    }
   ],
   "source": [
    "missing_values['WorkLoc'].value_counts()"
   ]
  },
  {
   "cell_type": "markdown",
   "id": "5070955f-3ce2-4b0f-a743-9f06b133314b",
   "metadata": {},
   "source": [
    "### Imputing missing values \n",
    "\n",
    "Find the value counts for the column WorkLoc"
   ]
  },
  {
   "cell_type": "code",
   "execution_count": 10,
   "id": "bcc6fb06-3b89-4a50-8ed1-a18bc1eab8c8",
   "metadata": {
    "tags": []
   },
   "outputs": [
    {
     "data": {
      "text/plain": [
       "WorkLoc\n",
       "Office                                            6806\n",
       "Home                                              3589\n",
       "Other place, such as a coworking space or cafe     971\n",
       "Name: count, dtype: int64"
      ]
     },
     "execution_count": 10,
     "metadata": {},
     "output_type": "execute_result"
    }
   ],
   "source": [
    "df['WorkLoc'].value_counts()"
   ]
  },
  {
   "cell_type": "markdown",
   "id": "ce37c2d6-6940-4f32-9036-6f55d82625ac",
   "metadata": {},
   "source": [
    "Identify the value that is most frequent (majority) in the WorkLoc column "
   ]
  },
  {
   "cell_type": "code",
   "execution_count": 11,
   "id": "80b75f91-9605-4da0-8f9f-daf6f99d0fc7",
   "metadata": {
    "tags": []
   },
   "outputs": [
    {
     "data": {
      "text/plain": [
       "'Office'"
      ]
     },
     "execution_count": 11,
     "metadata": {},
     "output_type": "execute_result"
    }
   ],
   "source": [
    "df['WorkLoc'].value_counts().idxmax()"
   ]
  },
  {
   "cell_type": "markdown",
   "id": "b65bb53c-b09b-4184-adfb-3de1b818e0c3",
   "metadata": {},
   "source": [
    "Impute (replace) all the empty rows in the column WorkLoc with the value that you have identified as majority."
   ]
  },
  {
   "cell_type": "code",
   "execution_count": 12,
   "id": "dd8522ba-bb39-408d-a01d-1f606dff703b",
   "metadata": {
    "tags": []
   },
   "outputs": [],
   "source": [
    "import numpy as np\n",
    "df['WorkLoc'].replace(np.nan, 'Office', inplace = True)"
   ]
  },
  {
   "cell_type": "markdown",
   "id": "c4e918e7-99e1-453b-be7b-f4c0e1fc9442",
   "metadata": {},
   "source": [
    "Verify if impurting was successful"
   ]
  },
  {
   "cell_type": "code",
   "execution_count": 13,
   "id": "cde1b0a8-66c9-4058-ab71-5659fa88ab3d",
   "metadata": {
    "tags": []
   },
   "outputs": [
    {
     "data": {
      "text/plain": [
       "False"
      ]
     },
     "execution_count": 13,
     "metadata": {},
     "output_type": "execute_result"
    }
   ],
   "source": [
    "\n",
    "df['WorkLoc'].isnull().any()"
   ]
  },
  {
   "cell_type": "markdown",
   "id": "f8b893f0-5fce-4b2f-8ace-7115e16b76f5",
   "metadata": {
    "tags": []
   },
   "source": [
    "### Normalizing data\n",
    "\n",
    "There are two columns in the dataset that talk about compensation.\n",
    "\n",
    "One is \"CompFreq\". This column shows how often a developer is paid (Yearly, Monthly, Weekly).\n",
    "\n",
    "The other is \"CompTotal\". This column talks about how much the developer is paid per Year, Month, or Week depending upon his/her \"CompFreq\". \n",
    "\n",
    "This makes it difficult to compare the total compensation of the developers.\n",
    "\n",
    "In this section you will create a new column called 'NormalizedAnnualCompensation' which contains the 'Annual Compensation' irrespective of the 'CompFreq'.\n",
    "\n",
    "Once this column is ready, it makes comparison of salaries easy.\n",
    "\n"
   ]
  },
  {
   "cell_type": "markdown",
   "id": "b52996a9-36c5-462e-be41-a4ca50796cd8",
   "metadata": {},
   "source": [
    "------"
   ]
  },
  {
   "cell_type": "markdown",
   "id": "873b0e85-bb25-41a5-baf3-10c214f9693c",
   "metadata": {},
   "source": [
    "List out the various categories in the column 'CompFreq'"
   ]
  },
  {
   "cell_type": "code",
   "execution_count": 14,
   "id": "1b198c5c-5285-49d1-82b4-2313b67506b3",
   "metadata": {
    "tags": []
   },
   "outputs": [
    {
     "data": {
      "text/plain": [
       "array(['Yearly', 'Monthly', 'Weekly', nan], dtype=object)"
      ]
     },
     "execution_count": 14,
     "metadata": {},
     "output_type": "execute_result"
    }
   ],
   "source": [
    "df['CompFreq'].unique()"
   ]
  },
  {
   "cell_type": "markdown",
   "id": "a7bb48c5-0d9c-409f-8db9-72f660ad7cfd",
   "metadata": {},
   "source": [
    "Create a new column named 'NormalizedAnnualCompensation'. "
   ]
  },
  {
   "cell_type": "code",
   "execution_count": 15,
   "id": "60c0705a-f418-4127-a646-5b20a80a77bd",
   "metadata": {
    "tags": []
   },
   "outputs": [],
   "source": [
    "df['NormalizedAnnualCompensation'] = np.where(\n",
    "    df['CompFreq'] == 'Yearly', df['CompTotal'],\n",
    "    np.where(df['CompFreq'] == 'Monthly', df['CompTotal'] * 12,\n",
    "    np.where(df['CompFreq'] == 'Weekly', df['CompTotal'] * 52, np.nan))\n",
    ")\n"
   ]
  },
  {
   "cell_type": "code",
   "execution_count": 27,
   "id": "baf18cf6-97b7-4f8c-b493-9e2282b38b44",
   "metadata": {
    "tags": []
   },
   "outputs": [
    {
     "data": {
      "text/plain": [
       "100000.0"
      ]
     },
     "execution_count": 27,
     "metadata": {},
     "output_type": "execute_result"
    }
   ],
   "source": [
    "df['NormalizedAnnualCompensation'].median()"
   ]
  },
  {
   "cell_type": "code",
   "execution_count": null,
   "id": "1222b22c-4633-4eb7-91de-4198e0d47e1d",
   "metadata": {},
   "outputs": [],
   "source": []
  }
 ],
 "metadata": {
  "kernelspec": {
   "display_name": "Python 3 (ipykernel)",
   "language": "python",
   "name": "python3"
  },
  "language_info": {
   "codemirror_mode": {
    "name": "ipython",
    "version": 3
   },
   "file_extension": ".py",
   "mimetype": "text/x-python",
   "name": "python",
   "nbconvert_exporter": "python",
   "pygments_lexer": "ipython3",
   "version": "3.11.5"
  }
 },
 "nbformat": 4,
 "nbformat_minor": 5
}
