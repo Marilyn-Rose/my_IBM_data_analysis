{
 "cells": [
  {
   "cell_type": "code",
   "execution_count": 2,
   "id": "e2bfc79f-650e-4084-bf09-95b3b5955294",
   "metadata": {},
   "outputs": [],
   "source": [
    "import pandas as pd\n",
    "import numpy as np"
   ]
  },
  {
   "cell_type": "code",
   "execution_count": 3,
   "id": "fd0a891d-d148-4837-9662-a582b8c27b02",
   "metadata": {},
   "outputs": [],
   "source": [
    "df_dem = pd.read_csv(\"C:/Users/user/Downloads/m5_survey_data_demographics.csv\")\n",
    "df_norm = pd.read_csv(\"C:/Users/user/Downloads/m5_survey_data_technologies_normalised.csv\")"
   ]
  },
  {
   "cell_type": "code",
   "execution_count": 43,
   "id": "9b88e281-da61-4107-a5f6-a37fff7b8eeb",
   "metadata": {},
   "outputs": [
    {
     "name": "stdout",
     "output_type": "stream",
     "text": [
      "<class 'pandas.core.frame.DataFrame'>\n",
      "Index: 74589 entries, 1 to 74589\n",
      "Data columns (total 10 columns):\n",
      " #   Column                  Non-Null Count  Dtype  \n",
      "---  ------                  --------------  -----  \n",
      " 0   Respondent              74589 non-null  float64\n",
      " 1   LanguageWorkedWith      74589 non-null  object \n",
      " 2   LanguageDesireNextYear  74589 non-null  object \n",
      " 3   DatabaseWorkedWith      74589 non-null  object \n",
      " 4   DatabaseDesireNextYear  74589 non-null  object \n",
      " 5   PlatformWorkedWith      74589 non-null  object \n",
      " 6   PlatformDesireNextYear  74589 non-null  object \n",
      " 7   WebFrameWorkedWith      74589 non-null  object \n",
      " 8   WebFrameDesireNextYear  74589 non-null  object \n",
      " 9   DevEnviron              74589 non-null  object \n",
      "dtypes: float64(1), object(9)\n",
      "memory usage: 6.3+ MB\n"
     ]
    }
   ],
   "source": [
    "df_norm.info()"
   ]
  },
  {
   "cell_type": "code",
   "execution_count": 5,
   "id": "b64fe153-2557-456e-936c-b5ea7aca32c9",
   "metadata": {},
   "outputs": [
    {
     "data": {
      "text/plain": [
       "DevEnviron\n",
       "Visual Studio Code    6639\n",
       "Visual Studio         4027\n",
       "Notepad++             3439\n",
       "IntelliJ              3094\n",
       "Vim                   3040\n",
       "Sublime Text          2638\n",
       "Android Studio        1691\n",
       "PyCharm               1448\n",
       "Eclipse               1373\n",
       "Atom                  1322\n",
       "Xcode                 1037\n",
       "IPython / Jupyter      995\n",
       "PHPStorm               936\n",
       "NetBeans               519\n",
       "Emacs                  448\n",
       "RStudio                314\n",
       "RubyMine               170\n",
       "TextMate                74\n",
       "Coda                    52\n",
       "Komodo                  25\n",
       "Zend                    18\n",
       "Light Table              7\n",
       "Name: count, dtype: int64"
      ]
     },
     "execution_count": 5,
     "metadata": {},
     "output_type": "execute_result"
    }
   ],
   "source": [
    "df_norm['DevEnviron'].value_counts()"
   ]
  },
  {
   "cell_type": "code",
   "execution_count": 6,
   "id": "ebe7e7bd-e098-48d5-8e34-5c8e11511f15",
   "metadata": {},
   "outputs": [],
   "source": [
    "df_norm.replace(['', 'None', 'NA', '?'], np.nan, inplace = True)"
   ]
  },
  {
   "cell_type": "code",
   "execution_count": 41,
   "id": "5333a885-e579-4643-ac4f-3a2f2058ed7a",
   "metadata": {},
   "outputs": [
    {
     "name": "stdout",
     "output_type": "stream",
     "text": [
      "Respondent\n",
      "False    74589\n",
      "Name: count, dtype: int64\n",
      "------------------------------\n",
      "LanguageWorkedWith\n",
      "False    74589\n",
      "Name: count, dtype: int64\n",
      "------------------------------\n",
      "LanguageDesireNextYear\n",
      "False    74589\n",
      "Name: count, dtype: int64\n",
      "------------------------------\n",
      "DatabaseWorkedWith\n",
      "False    74589\n",
      "Name: count, dtype: int64\n",
      "------------------------------\n",
      "DatabaseDesireNextYear\n",
      "False    74589\n",
      "Name: count, dtype: int64\n",
      "------------------------------\n",
      "PlatformWorkedWith\n",
      "False    74589\n",
      "Name: count, dtype: int64\n",
      "------------------------------\n",
      "PlatformDesireNextYear\n",
      "False    74589\n",
      "Name: count, dtype: int64\n",
      "------------------------------\n",
      "WebFrameWorkedWith\n",
      "False    74589\n",
      "Name: count, dtype: int64\n",
      "------------------------------\n",
      "WebFrameDesireNextYear\n",
      "False    74589\n",
      "Name: count, dtype: int64\n",
      "------------------------------\n",
      "DevEnviron\n",
      "False    74589\n",
      "Name: count, dtype: int64\n",
      "------------------------------\n"
     ]
    }
   ],
   "source": [
    "missing = df_norm.isnull()\n",
    "\n",
    "for column in missing.columns.values.tolist():\n",
    "    print(missing[column].value_counts())\n",
    "    print('------------------------------')"
   ]
  },
  {
   "cell_type": "code",
   "execution_count": 8,
   "id": "88ded47d-dde4-4297-8666-b3a59d73cd9e",
   "metadata": {},
   "outputs": [],
   "source": [
    "df_norm.drop(['OpSys', 'Containers', 'BlockchainOrg', 'BlockchainIs'], axis = 1, inplace = True)"
   ]
  },
  {
   "cell_type": "code",
   "execution_count": 9,
   "id": "b5bd2aea-892d-4016-9e7c-2cecff61857c",
   "metadata": {},
   "outputs": [],
   "source": [
    "df_norm.dropna(subset = 'Respondent', inplace = True)"
   ]
  },
  {
   "cell_type": "code",
   "execution_count": 10,
   "id": "cba98b07-5e80-4e54-a106-ee99a4f1e9be",
   "metadata": {},
   "outputs": [],
   "source": [
    "df_norm.replace(np.nan, 'Unknown', inplace = True)"
   ]
  },
  {
   "cell_type": "code",
   "execution_count": 20,
   "id": "e5786bd7-abee-4c8e-a6bb-b359826a229c",
   "metadata": {},
   "outputs": [
    {
     "data": {
      "text/plain": [
       "Respondent                float64\n",
       "LanguageWorkedWith         object\n",
       "LanguageDesireNextYear     object\n",
       "DatabaseWorkedWith         object\n",
       "DatabaseDesireNextYear     object\n",
       "PlatformWorkedWith         object\n",
       "PlatformDesireNextYear     object\n",
       "WebFrameWorkedWith         object\n",
       "WebFrameDesireNextYear     object\n",
       "DevEnviron                 object\n",
       "dtype: object"
      ]
     },
     "execution_count": 20,
     "metadata": {},
     "output_type": "execute_result"
    }
   ],
   "source": [
    "df_norm.dtypes"
   ]
  },
  {
   "cell_type": "code",
   "execution_count": 34,
   "id": "7acacf4e-4739-4468-95cd-ea8cefadb40a",
   "metadata": {},
   "outputs": [
    {
     "data": {
      "text/plain": [
       "array(['C', 'C++', 'C#', 'Python', 'SQL', 'Bash/Shell/PowerShell',\n",
       "       'HTML/CSS', 'JavaScript', 'Ruby', 'Rust', 'TypeScript',\n",
       "       'WebAssembly', 'Other(s):', 'PHP', 'Unknown', 'VBA', 'Java', 'R',\n",
       "       'Swift', 'Objective-C', 'Go', 'Kotlin', 'F#', 'Erlang', 'Assembly',\n",
       "       'Scala', 'Elixir', 'Clojure', 'Dart'], dtype=object)"
      ]
     },
     "execution_count": 34,
     "metadata": {},
     "output_type": "execute_result"
    }
   ],
   "source": [
    "df_norm['LanguageWorkedWith'].unique()"
   ]
  },
  {
   "cell_type": "code",
   "execution_count": 27,
   "id": "18b54b15-28dd-42d3-9c0f-c54f90f7d3f2",
   "metadata": {},
   "outputs": [],
   "source": [
    "df_norm.to_csv('m5_survey_data_technologies_normalised.csv', index = False)"
   ]
  },
  {
   "cell_type": "code",
   "execution_count": 38,
   "id": "0fec511c-652f-458f-a634-807c2d2a4576",
   "metadata": {},
   "outputs": [
    {
     "name": "stdout",
     "output_type": "stream",
     "text": [
      "<class 'pandas.core.frame.DataFrame'>\n",
      "RangeIndex: 11398 entries, 0 to 11397\n",
      "Data columns (total 70 columns):\n",
      " #   Column          Non-Null Count  Dtype  \n",
      "---  ------          --------------  -----  \n",
      " 0   Respondent      11398 non-null  int64  \n",
      " 1   MainBranch      11398 non-null  object \n",
      " 2   Hobbyist        11398 non-null  object \n",
      " 3   OpenSourcer     11398 non-null  object \n",
      " 4   OpenSource      11317 non-null  object \n",
      " 5   Employment      11398 non-null  object \n",
      " 6   Country         11398 non-null  object \n",
      " 7   Student         11347 non-null  object \n",
      " 8   EdLevel         11286 non-null  object \n",
      " 9   UndergradMajor  10661 non-null  object \n",
      " 10  EduOther        11234 non-null  object \n",
      " 11  OrgSize         11302 non-null  object \n",
      " 12  DevType         11333 non-null  object \n",
      " 13  YearsCode       11389 non-null  object \n",
      " 14  Age1stCode      11385 non-null  object \n",
      " 15  YearsCodePro    11382 non-null  object \n",
      " 16  CareerSat       11398 non-null  object \n",
      " 17  JobSat          11397 non-null  object \n",
      " 18  MgrIdiot        10905 non-null  object \n",
      " 19  MgrMoney        10901 non-null  object \n",
      " 20  MgrWant         10905 non-null  object \n",
      " 21  JobSeek         11398 non-null  object \n",
      " 22  LastHireDate    11398 non-null  object \n",
      " 23  LastInt         10985 non-null  object \n",
      " 24  FizzBuzz        11361 non-null  object \n",
      " 25  JobFactors      11395 non-null  object \n",
      " 26  ResumeUpdate    11359 non-null  object \n",
      " 27  CurrencySymbol  11398 non-null  object \n",
      " 28  CurrencyDesc    11398 non-null  object \n",
      " 29  CompTotal       10589 non-null  float64\n",
      " 30  CompFreq        11192 non-null  object \n",
      " 31  ConvertedComp   10582 non-null  float64\n",
      " 32  WorkWeekHrs     11276 non-null  float64\n",
      " 33  WorkPlan        11277 non-null  object \n",
      " 34  WorkChallenge   11234 non-null  object \n",
      " 35  WorkRemote      11390 non-null  object \n",
      " 36  WorkLoc         11366 non-null  object \n",
      " 37  ImpSyn          11393 non-null  object \n",
      " 38  CodeRev         11397 non-null  object \n",
      " 39  CodeRevHrs      8972 non-null   float64\n",
      " 40  UnitTests       11369 non-null  object \n",
      " 41  PurchaseHow     11202 non-null  object \n",
      " 42  PurchaseWhat    11360 non-null  object \n",
      " 43  BetterLife      11300 non-null  object \n",
      " 44  ITperson        11363 non-null  object \n",
      " 45  OffOn           11360 non-null  object \n",
      " 46  SocialMedia     11105 non-null  object \n",
      " 47  Extraversion    11378 non-null  object \n",
      " 48  ScreenName      10891 non-null  object \n",
      " 49  SOVisit1st      11073 non-null  object \n",
      " 50  SOVisitFreq     11393 non-null  object \n",
      " 51  SOVisitTo       11397 non-null  object \n",
      " 52  SOFindAnswer    11395 non-null  object \n",
      " 53  SOTimeSaved     11348 non-null  object \n",
      " 54  SOHowMuchTime   9481 non-null   object \n",
      " 55  SOAccount       11397 non-null  object \n",
      " 56  SOPartFreq      10270 non-null  object \n",
      " 57  SOJobs          11392 non-null  object \n",
      " 58  EntTeams        11393 non-null  object \n",
      " 59  SOComm          11398 non-null  object \n",
      " 60  WelcomeChange   11313 non-null  object \n",
      " 61  SONewContent    9433 non-null   object \n",
      " 62  Age             11111 non-null  float64\n",
      " 63  Gender          11325 non-null  object \n",
      " 64  Trans           11275 non-null  object \n",
      " 65  Sexuality       10856 non-null  object \n",
      " 66  Ethnicity       10723 non-null  object \n",
      " 67  Dependents      11258 non-null  object \n",
      " 68  SurveyLength    11379 non-null  object \n",
      " 69  SurveyEase      11384 non-null  object \n",
      "dtypes: float64(5), int64(1), object(64)\n",
      "memory usage: 6.1+ MB\n"
     ]
    }
   ],
   "source": [
    "df_dem.info()"
   ]
  },
  {
   "cell_type": "code",
   "execution_count": 48,
   "id": "0469426f-7db1-4604-8ed0-99579aeb5af3",
   "metadata": {},
   "outputs": [
    {
     "data": {
      "text/plain": [
       "0        22.0\n",
       "1        23.0\n",
       "2        28.0\n",
       "3        26.0\n",
       "4        29.0\n",
       "         ... \n",
       "11393    36.0\n",
       "11394    25.0\n",
       "11395    34.0\n",
       "11396    25.0\n",
       "11397    30.0\n",
       "Name: Age, Length: 11398, dtype: float64"
      ]
     },
     "execution_count": 48,
     "metadata": {},
     "output_type": "execute_result"
    }
   ],
   "source": [
    "df_dem['Age']"
   ]
  },
  {
   "cell_type": "code",
   "execution_count": null,
   "id": "eddac5f9-3b17-4b9f-890d-b5a83868f274",
   "metadata": {},
   "outputs": [],
   "source": []
  }
 ],
 "metadata": {
  "kernelspec": {
   "display_name": "Python 3 (ipykernel)",
   "language": "python",
   "name": "python3"
  },
  "language_info": {
   "codemirror_mode": {
    "name": "ipython",
    "version": 3
   },
   "file_extension": ".py",
   "mimetype": "text/x-python",
   "name": "python",
   "nbconvert_exporter": "python",
   "pygments_lexer": "ipython3",
   "version": "3.12.4"
  }
 },
 "nbformat": 4,
 "nbformat_minor": 5
}
