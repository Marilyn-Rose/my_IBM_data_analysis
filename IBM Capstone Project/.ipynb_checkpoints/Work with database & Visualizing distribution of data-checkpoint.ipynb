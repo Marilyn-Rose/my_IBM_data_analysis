{
 "cells": [
  {
   "cell_type": "markdown",
   "id": "e7f439d9-5668-409f-9c15-e863456d0e2f",
   "metadata": {},
   "source": [
    "# Data Visualization Lab\n",
    "\n",
    "The dataset will e presented to you in the form of a RDBMS.\n",
    "\n",
    "Use SQL queries to extract the data."
   ]
  },
  {
   "cell_type": "markdown",
   "id": "5afef672-e17d-4f7c-abaa-52f7d2faca04",
   "metadata": {},
   "source": [
    "##  How to work with database"
   ]
  },
  {
   "cell_type": "code",
   "execution_count": 1,
   "id": "b49e2310-23ab-4fe2-ae68-49448275f12a",
   "metadata": {
    "tags": []
   },
   "outputs": [
    {
     "name": "stderr",
     "output_type": "stream",
     "text": [
      "'wget' is not recognized as an internal or external command,\n",
      "operable program or batch file.\n"
     ]
    }
   ],
   "source": [
    "!wget https://cf-courses-data.s3.us.cloud-object-storage.appdomain.cloud/IBM-DA0321EN-SkillsNetwork/LargeData/m4_survey_data.sqlite"
   ]
  },
  {
   "cell_type": "code",
   "execution_count": null,
   "id": "37b02638-9bdb-48aa-b189-4fe58b5feb92",
   "metadata": {},
   "outputs": [],
   "source": []
  }
 ],
 "metadata": {
  "kernelspec": {
   "display_name": "Python 3 (ipykernel)",
   "language": "python",
   "name": "python3"
  },
  "language_info": {
   "codemirror_mode": {
    "name": "ipython",
    "version": 3
   },
   "file_extension": ".py",
   "mimetype": "text/x-python",
   "name": "python",
   "nbconvert_exporter": "python",
   "pygments_lexer": "ipython3",
   "version": "3.11.5"
  }
 },
 "nbformat": 4,
 "nbformat_minor": 5
}
