{
 "cells": [
  {
   "cell_type": "code",
   "execution_count": 1,
   "id": "e2bfc79f-650e-4084-bf09-95b3b5955294",
   "metadata": {},
   "outputs": [],
   "source": [
    "import pandas as pd\n",
    "import numpy as np"
   ]
  },
  {
   "cell_type": "code",
   "execution_count": 2,
   "id": "fd0a891d-d148-4837-9662-a582b8c27b02",
   "metadata": {},
   "outputs": [],
   "source": [
    "df_dem = pd.read_csv(\"C:/Users/user/Downloads/m5_survey_data_demographics.csv\")\n",
    "df_norm = pd.read_csv(\"C:/Users/user/Downloads/m5_survey_data_technologies_normalised.csv\")"
   ]
  },
  {
   "cell_type": "code",
   "execution_count": 3,
   "id": "9b88e281-da61-4107-a5f6-a37fff7b8eeb",
   "metadata": {},
   "outputs": [
    {
     "name": "stdout",
     "output_type": "stream",
     "text": [
      "<class 'pandas.core.frame.DataFrame'>\n",
      "RangeIndex: 74590 entries, 0 to 74589\n",
      "Data columns (total 14 columns):\n",
      " #   Column                  Non-Null Count  Dtype  \n",
      "---  ------                  --------------  -----  \n",
      " 0   Respondent              74589 non-null  float64\n",
      " 1   LanguageWorkedWith      59792 non-null  object \n",
      " 2   LanguageDesireNextYear  55764 non-null  object \n",
      " 3   DatabaseWorkedWith      31375 non-null  object \n",
      " 4   DatabaseDesireNextYear  29575 non-null  object \n",
      " 5   PlatformWorkedWith      39208 non-null  object \n",
      " 6   PlatformDesireNextYear  44314 non-null  object \n",
      " 7   WebFrameWorkedWith      24803 non-null  object \n",
      " 8   WebFrameDesireNextYear  24567 non-null  object \n",
      " 9   DevEnviron              33306 non-null  object \n",
      " 10  OpSys                   0 non-null      float64\n",
      " 11  Containers              0 non-null      float64\n",
      " 12  BlockchainOrg           0 non-null      float64\n",
      " 13  BlockchainIs            0 non-null      float64\n",
      "dtypes: float64(5), object(9)\n",
      "memory usage: 8.0+ MB\n"
     ]
    }
   ],
   "source": [
    "df_norm.info()"
   ]
  },
  {
   "cell_type": "code",
   "execution_count": 4,
   "id": "b64fe153-2557-456e-936c-b5ea7aca32c9",
   "metadata": {},
   "outputs": [
    {
     "data": {
      "text/plain": [
       "DevEnviron\n",
       "Visual Studio Code    6639\n",
       "Visual Studio         4027\n",
       "Notepad++             3439\n",
       "IntelliJ              3094\n",
       "Vim                   3040\n",
       "Sublime Text          2638\n",
       "Android Studio        1691\n",
       "PyCharm               1448\n",
       "Eclipse               1373\n",
       "Atom                  1322\n",
       "Xcode                 1037\n",
       "IPython / Jupyter      995\n",
       "PHPStorm               936\n",
       "NetBeans               519\n",
       "Emacs                  448\n",
       "RStudio                314\n",
       "RubyMine               170\n",
       "TextMate                74\n",
       "Coda                    52\n",
       "Komodo                  25\n",
       "Zend                    18\n",
       "Light Table              7\n",
       "Name: count, dtype: int64"
      ]
     },
     "execution_count": 4,
     "metadata": {},
     "output_type": "execute_result"
    }
   ],
   "source": [
    "df_norm['DevEnviron'].value_counts()"
   ]
  },
  {
   "cell_type": "code",
   "execution_count": 5,
   "id": "ebe7e7bd-e098-48d5-8e34-5c8e11511f15",
   "metadata": {},
   "outputs": [],
   "source": [
    "df_norm.replace(['', 'None', 'NA', '?'], np.nan, inplace = True)"
   ]
  },
  {
   "cell_type": "code",
   "execution_count": 24,
   "id": "5333a885-e579-4643-ac4f-3a2f2058ed7a",
   "metadata": {},
   "outputs": [
    {
     "name": "stdout",
     "output_type": "stream",
     "text": [
      "Respondent\n",
      "False    74589\n",
      "Name: count, dtype: int64\n",
      "------------------------------\n",
      "LanguageWorkedWith\n",
      "False    74589\n",
      "Name: count, dtype: int64\n",
      "------------------------------\n",
      "LanguageDesireNextYear\n",
      "False    74589\n",
      "Name: count, dtype: int64\n",
      "------------------------------\n",
      "DatabaseWorkedWith\n",
      "False    74589\n",
      "Name: count, dtype: int64\n",
      "------------------------------\n",
      "DatabaseDesireNextYear\n",
      "False    74589\n",
      "Name: count, dtype: int64\n",
      "------------------------------\n",
      "PlatformWorkedWith\n",
      "False    74589\n",
      "Name: count, dtype: int64\n",
      "------------------------------\n",
      "PlatformDesireNextYear\n",
      "False    74589\n",
      "Name: count, dtype: int64\n",
      "------------------------------\n",
      "WebFrameWorkedWith\n",
      "False    74589\n",
      "Name: count, dtype: int64\n",
      "------------------------------\n",
      "WebFrameDesireNextYear\n",
      "False    74589\n",
      "Name: count, dtype: int64\n",
      "------------------------------\n",
      "DevEnviron\n",
      "False    74589\n",
      "Name: count, dtype: int64\n",
      "------------------------------\n"
     ]
    }
   ],
   "source": [
    "missing = df_norm.isnull()\n",
    "\n",
    "for column in missing.columns.values.tolist():\n",
    "    print(missing[column].value_counts())\n",
    "    print('------------------------------')"
   ]
  },
  {
   "cell_type": "code",
   "execution_count": 7,
   "id": "88ded47d-dde4-4297-8666-b3a59d73cd9e",
   "metadata": {},
   "outputs": [],
   "source": [
    "df_norm.drop(['OpSys', 'Containers', 'BlockchainOrg', 'BlockchainIs'], axis = 1, inplace = True)"
   ]
  },
  {
   "cell_type": "code",
   "execution_count": 18,
   "id": "b5bd2aea-892d-4016-9e7c-2cecff61857c",
   "metadata": {},
   "outputs": [],
   "source": [
    "df_norm.dropna(subset = 'Respondent', inplace = True)"
   ]
  },
  {
   "cell_type": "code",
   "execution_count": 22,
   "id": "cba98b07-5e80-4e54-a106-ee99a4f1e9be",
   "metadata": {},
   "outputs": [],
   "source": [
    "df_norm.replace(np.nan, 'Unknown', inplace = True)"
   ]
  },
  {
   "cell_type": "code",
   "execution_count": 26,
   "id": "e5786bd7-abee-4c8e-a6bb-b359826a229c",
   "metadata": {},
   "outputs": [
    {
     "data": {
      "text/plain": [
       "Respondent                float64\n",
       "LanguageWorkedWith         object\n",
       "LanguageDesireNextYear     object\n",
       "DatabaseWorkedWith         object\n",
       "DatabaseDesireNextYear     object\n",
       "PlatformWorkedWith         object\n",
       "PlatformDesireNextYear     object\n",
       "WebFrameWorkedWith         object\n",
       "WebFrameDesireNextYear     object\n",
       "DevEnviron                 object\n",
       "dtype: object"
      ]
     },
     "execution_count": 26,
     "metadata": {},
     "output_type": "execute_result"
    }
   ],
   "source": [
    "df_norm.dtypes"
   ]
  },
  {
   "cell_type": "code",
   "execution_count": 34,
   "id": "18b54b15-28dd-42d3-9c0f-c54f90f7d3f2",
   "metadata": {},
   "outputs": [],
   "source": [
    "df_norm.to_csv('m5_survey_data_technologies_normalised.csv')"
   ]
  },
  {
   "cell_type": "code",
   "execution_count": null,
   "id": "7acacf4e-4739-4468-95cd-ea8cefadb40a",
   "metadata": {},
   "outputs": [],
   "source": []
  }
 ],
 "metadata": {
  "kernelspec": {
   "display_name": "Python 3 (ipykernel)",
   "language": "python",
   "name": "python3"
  },
  "language_info": {
   "codemirror_mode": {
    "name": "ipython",
    "version": 3
   },
   "file_extension": ".py",
   "mimetype": "text/x-python",
   "name": "python",
   "nbconvert_exporter": "python",
   "pygments_lexer": "ipython3",
   "version": "3.12.4"
  }
 },
 "nbformat": 4,
 "nbformat_minor": 5
}
