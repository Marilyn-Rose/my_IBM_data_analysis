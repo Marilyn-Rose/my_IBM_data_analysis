{
 "cells": [
  {
   "cell_type": "code",
   "execution_count": 5,
   "id": "e691ec1d-3f38-420c-84e2-e58f84f076b7",
   "metadata": {
    "tags": []
   },
   "outputs": [
    {
     "name": "stdout",
     "output_type": "stream",
     "text": [
      " * Serving Flask app '__main__'\n",
      " * Debug mode: off\n"
     ]
    },
    {
     "name": "stderr",
     "output_type": "stream",
     "text": [
      "WARNING: This is a development server. Do not use it in a production deployment. Use a production WSGI server instead.\n",
      " * Running on http://127.0.0.1:5000\n",
      "Press CTRL+C to quit\n"
     ]
    }
   ],
   "source": [
    "import flask   # imports the flask library, making the code avaialble to the rest of the application.\n",
    "\n",
    "app = flask.Flask(__name__)  # Creates the Flask application object.\n",
    "#app.config[\"DEBUG\"] = True  # this starts the debugger. With this, if the code is malformed, an error will show when the app is visited.\n",
    "# other wise, a generic message with show as Bad Gateway in the browser when there's a problem with the code.\n",
    "\n",
    "@app.route('/', methods = ['GET'])  # routing: the process of mapping URLs to functions\n",
    "##The syntax below lets Flask know that this function\n",
    "            #home, should be mapped to the path /.\n",
    "    \n",
    "def home():\n",
    "    return \"<h1>Distant Reading Archive</h1><p>This site is a prototype API for distanct reading of science fiction novels.</p>\"\n",
    "\n",
    "app.run()  # a method that runs the application server."
   ]
  },
  {
   "cell_type": "markdown",
   "id": "b62d9cf4-8d09-4fe4-86fe-1f76d9f19e83",
   "metadata": {},
   "source": [
    "### Creating the API\n",
    "\n",
    "\n",
    "Add the data as a list of Python dictionaries. Dictionaries in Python group pairs of keys and values:"
   ]
  },
  {
   "cell_type": "code",
   "execution_count": 3,
   "id": "039eb0d8-fe71-43a0-82e5-e2d5ce7eea77",
   "metadata": {
    "tags": []
   },
   "outputs": [
    {
     "ename": "SyntaxError",
     "evalue": "invalid syntax (1343322346.py, line 4)",
     "output_type": "error",
     "traceback": [
      "\u001b[1;36m  Cell \u001b[1;32mIn[3], line 4\u001b[1;36m\u001b[0m\n\u001b[1;33m    'number': '1-333-444-5555'\u001b[0m\n\u001b[1;37m            ^\u001b[0m\n\u001b[1;31mSyntaxError\u001b[0m\u001b[1;31m:\u001b[0m invalid syntax\n"
     ]
    }
   ],
   "source": [
    "[\n",
    "    {\n",
    "        'name': 'Alexander Graham Bell',\n",
    "        'number': '1-333-444-5555'\n",
    "    },\n",
    "    {\n",
    "        'name': 'Thomas A. Watson',\n",
    "        'number': '1-444-555-6666'\n",
    "    }\n",
    "]"
   ]
  },
  {
   "cell_type": "markdown",
   "id": "12372a95-4bca-4cb6-8122-e5684463a6c8",
   "metadata": {},
   "source": [
    "----"
   ]
  },
  {
   "cell_type": "markdown",
   "id": "0a558d04-345f-46ae-8b94-152df73548c6",
   "metadata": {},
   "source": [
    "* Create a list of dictionaries. Each dictionary will contain ID number, title, author, first sentence, and year of publication for each book.\n",
    "\n",
    "* Add 3 route methods\n",
    "    * `@app.route( '/', methods=['GET']` which will map to method home which will return a html response.\n",
    "    * `@app.route( '/books/all', methods=['GET']` which map to method api_all returning all book information as a json response.\n",
    "    * `@app.route( '/books', methods = ['GET'] `which will map to method api_id() filterning and returning book information with respect to id."
   ]
  },
  {
   "cell_type": "code",
   "execution_count": null,
   "id": "42b267e1-0a20-44ae-853a-49e677e336d9",
   "metadata": {
    "tags": []
   },
   "outputs": [
    {
     "name": "stdout",
     "output_type": "stream",
     "text": [
      " * Serving Flask app '__main__'\n",
      " * Debug mode: off\n"
     ]
    },
    {
     "name": "stderr",
     "output_type": "stream",
     "text": [
      "WARNING: This is a development server. Do not use it in a production deployment. Use a production WSGI server instead.\n",
      " * Running on http://127.0.0.1:5000\n",
      "Press CTRL+C to quit\n",
      "127.0.0.1 - - [16/Sep/2024 21:57:12] \"GET / HTTP/1.1\" 200 -\n",
      "127.0.0.1 - - [16/Sep/2024 21:57:13] \"GET /favicon.ico HTTP/1.1\" 404 -\n"
     ]
    }
   ],
   "source": [
    "import flask\n",
    "from flask import request, jsonify\n",
    "\n",
    "app = flask.Flask(__name__)\n",
    "\n",
    "#::page{title=\"Create some test data for our catalog in the form of a list of dictionaries.\"}\n",
    "\n",
    "books = [\n",
    "    {'id': 0,\n",
    "     'title': 'A Fire Upon the Deep',\n",
    "     'author': 'Vernor Vinge',\n",
    "     'first_sentence': 'The coldsleep itself was dreamless.',\n",
    "     'year_published': '1992'},\n",
    "    {'id': 1,\n",
    "     'title': 'The Ones Who Walk Away From Omelas',\n",
    "     'author': 'Ursula K. Le Guin',\n",
    "     'first_sentence': 'With a clamor of bells that set the swallows soaring, the Festival of Summer came to the city Omelas, bright-towered by the sea.',\n",
    "     'published': '1973'},\n",
    "    {'id': 2,\n",
    "     'title': 'Dhalgren',\n",
    "     'author': 'Samuel R. Delany',\n",
    "     'first_sentence': 'to wound the autumnal city.',\n",
    "     'published': '1975'}\n",
    "]\n",
    "\n",
    "@app.route('/', methods=['GET'])\n",
    "def home():\n",
    "    return '''<h1>Distant Reading Archive</h1>\n",
    "<p>A prototype API for distant reading of science fiction novels.</p>'''\n",
    "\n",
    "@app.route('/books/all', methods=['GET'])\n",
    "def api_all():\n",
    "    return jsonify(books)\n",
    "\n",
    "@app.route('/books', methods=['GET'])\n",
    "def api_id():\n",
    "    # Check if an ID was provided as part of the URL.\n",
    "    # If ID is provided, assign it to a variable.\n",
    "    # If no ID is provided, display an error in the browser.\n",
    "    if 'id' in request.args:\n",
    "        id = int(request.args['id'])\n",
    "    else:\n",
    "        return \"Error: No id field provided. Please specify an id.\"\n",
    "\n",
    "    # Create an empty list for our results\n",
    "    results = []\n",
    "\n",
    "    # Loop through the data and match results that fit the requested ID.\n",
    "    # IDs are unique, but other fields might return many results\n",
    "    for book in books:\n",
    "        if book['id'] == id:\n",
    "            results.append(book)\n",
    "\n",
    "    # Use the jsonify function from Flask to convert our list of\n",
    "    # Python dictionaries to the JSON format.\n",
    "    return jsonify(results)\n",
    "\n",
    "app.run()"
   ]
  },
  {
   "cell_type": "code",
   "execution_count": null,
   "id": "05f6c1c7-8273-435c-b3eb-c828f4669e2a",
   "metadata": {},
   "outputs": [],
   "source": []
  }
 ],
 "metadata": {
  "kernelspec": {
   "display_name": "Python 3 (ipykernel)",
   "language": "python",
   "name": "python3"
  },
  "language_info": {
   "codemirror_mode": {
    "name": "ipython",
    "version": 3
   },
   "file_extension": ".py",
   "mimetype": "text/x-python",
   "name": "python",
   "nbconvert_exporter": "python",
   "pygments_lexer": "ipython3",
   "version": "3.11.5"
  }
 },
 "nbformat": 4,
 "nbformat_minor": 5
}
