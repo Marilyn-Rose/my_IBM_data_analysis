{
 "cells": [
  {
   "cell_type": "markdown",
   "id": "207cc887-f953-44ba-846e-e5d0ee854c0e",
   "metadata": {},
   "source": [
    "## Scrap www.ibm.com\n",
    "\n",
    "Import the required modules and functions"
   ]
  },
  {
   "cell_type": "code",
   "execution_count": 1,
   "id": "06c25fbd-ed8e-46ee-8cc5-877b09fd2346",
   "metadata": {
    "tags": []
   },
   "outputs": [],
   "source": [
    "from bs4 import BeautifulSoup\n",
    "import requests"
   ]
  },
  {
   "cell_type": "markdown",
   "id": "e1a87e90-3605-4a7d-a054-f859711a9cbd",
   "metadata": {},
   "source": [
    "Download the contents of the web page"
   ]
  },
  {
   "cell_type": "code",
   "execution_count": 2,
   "id": "8efc9ba0-73ba-4f15-8b7d-c01d067b7f50",
   "metadata": {
    "tags": []
   },
   "outputs": [],
   "source": [
    "url = 'http://www.ibm.com'"
   ]
  },
  {
   "cell_type": "code",
   "execution_count": 3,
   "id": "8b6c8d5c-e739-4ea2-a87a-fdedfd83e338",
   "metadata": {
    "tags": []
   },
   "outputs": [],
   "source": [
    "# get the contents of the webpage in text format and store in a variable\n",
    "data = requests.get(url).text"
   ]
  },
  {
   "cell_type": "markdown",
   "id": "79e3329e-1522-45bb-bca7-8fed5484d29c",
   "metadata": {},
   "source": [
    "Create a soup object using the class BeautifulSoup"
   ]
  },
  {
   "cell_type": "code",
   "execution_count": 4,
   "id": "cad1c06a-1617-41b8-aad6-2c8a873b7dcb",
   "metadata": {
    "tags": []
   },
   "outputs": [],
   "source": [
    "soup = BeautifulSoup(data,'html.parser')"
   ]
  },
  {
   "cell_type": "markdown",
   "id": "9f367ffe-f472-44e4-8012-f83f6f62b981",
   "metadata": {},
   "source": [
    "Scrape all links"
   ]
  },
  {
   "cell_type": "code",
   "execution_count": 7,
   "id": "88845b01-6b06-41a4-b603-d92ff7cb58cc",
   "metadata": {
    "tags": []
   },
   "outputs": [
    {
     "name": "stdout",
     "output_type": "stream",
     "text": [
      "https://www.ibm.com/hybrid-cloud?lnk=hpUSbt1\n",
      "https://www.ibm.com/consulting\n"
     ]
    }
   ],
   "source": [
    "for link in soup.find_all('a'):  # in html anchor/link is represented by the tag <a>\n",
    "    print(link.get('href'))"
   ]
  },
  {
   "cell_type": "markdown",
   "id": "9be9df4a-aaf0-4487-836e-39b53ab3d119",
   "metadata": {},
   "source": [
    "Scrape all images"
   ]
  },
  {
   "cell_type": "code",
   "execution_count": 9,
   "id": "6758e96a-bfe1-4fc7-a86a-b34d29d78bb7",
   "metadata": {
    "tags": []
   },
   "outputs": [],
   "source": [
    "for link in soup.find_all('img'):  # in html image is represented by the tag <img>\n",
    "    print(link.get('src'))"
   ]
  },
  {
   "cell_type": "markdown",
   "id": "6fb826a8-33da-44c7-8c19-749a564ad805",
   "metadata": {},
   "source": [
    "## Scrape the data from html tables "
   ]
  },
  {
   "cell_type": "code",
   "execution_count": 10,
   "id": "4d70489d-7ce0-40d2-ba29-ca641b7a3688",
   "metadata": {
    "tags": []
   },
   "outputs": [],
   "source": [
    "url = \"https://cf-courses-data.s3.us.cloud-object-storage.appdomain.cloud/IBM-DA0321EN-SkillsNetwork/labs/datasets/HTMLColorCodes.html\""
   ]
  },
  {
   "cell_type": "markdown",
   "id": "9ea1ddae-edec-4e09-99d6-bc5e33573b5b",
   "metadata": {},
   "source": [
    "Before proceeding to scrape a web site, you need to examine the contents, and the way data is organized on the website. Open the above url in your browser and check how many rows and columns are there in the color table."
   ]
  },
  {
   "cell_type": "code",
   "execution_count": 11,
   "id": "8cb78b45-388a-4d9a-bae5-152227b7f6ec",
   "metadata": {
    "tags": []
   },
   "outputs": [],
   "source": [
    "# get the contents of the webpage in text format and store in a variable\n",
    "data = requests.get(url).text"
   ]
  },
  {
   "cell_type": "code",
   "execution_count": 12,
   "id": "4a37c687-8984-4048-9b95-c29d96849906",
   "metadata": {
    "collapsed": true,
    "jupyter": {
     "outputs_hidden": true
    },
    "tags": []
   },
   "outputs": [
    {
     "data": {
      "text/plain": [
       "'<html>\\n   <body>\\n      <h1>Partital List  of HTML5 Supported Colors</h1>\\n<table border =\"1\" class=\"main-table\">\\n   <tr>\\n      <td>Number </td>\\n      <td>Color</td>\\n      <td>Color Name</td>\\n      <td>Hex Code<br>#RRGGBB</td>\\n      <td>Decimal Code<br>(R,G,B)</td>\\n   </tr>\\n   <tr>\\n      <td>1</td>\\n      <td style=\"background:lightsalmon;\">&nbsp;</td>\\n      <td>lightsalmon</td>\\n      <td>#FFA07A</td>\\n      <td>rgb(255,160,122)</td>\\n   </tr>\\n   <tr>\\n      <td>2</td>\\n      <td style=\"background:salmon;\">&nbsp;</td>\\n      <td>salmon</td>\\n      <td>#FA8072</td>\\n      <td>rgb(250,128,114)</td>\\n   </tr>\\n   <tr>\\n      <td>3</td>\\n      <td style=\"background:darksalmon;\">&nbsp;</td>\\n      <td>darksalmon</td>\\n      <td>#E9967A</td>\\n      <td>rgb(233,150,122)</td>\\n   </tr>\\n   <tr>\\n      <td>4</td>\\n      <td style=\"background:lightcoral;\">&nbsp;</td>\\n      <td>lightcoral</td>\\n      <td>#F08080</td>\\n      <td>rgb(240,128,128)</td>\\n   </tr>\\n   <tr>\\n      <td>5</td>\\n      <td style=\"background:coral;\">&nbsp;</td>\\n      <td>coral</td>\\n      <td>#FF7F50</td>\\n      <td>rgb(255,127,80)</td>\\n   </tr>\\n   <tr>\\n      <td>6</td>\\n      <td style=\"background:tomato;\">&nbsp;</td>\\n      <td>tomato</td>\\n      <td>#FF6347</td>\\n      <td>rgb(255,99,71)</td>\\n   </tr>\\n   <tr>\\n      <td>7</td>\\n      <td style=\"background:orangered;\">&nbsp;</td>\\n      <td>orangered</td>\\n      <td>#FF4500</td>\\n      <td>rgb(255,69,0)</td>\\n   </tr>\\n   <tr>\\n      <td>8</td>\\n      <td style=\"background:gold;\">&nbsp;</td>\\n      <td>gold</td>\\n      <td>#FFD700</td>\\n      <td>rgb(255,215,0)</td>\\n   </tr>\\n   <tr>\\n      <td>9</td>\\n      <td style=\"background:orange;\">&nbsp;</td>\\n      <td>orange</td>\\n      <td>#FFA500</td>\\n      <td>rgb(255,165,0)</td>\\n   </tr>\\n   <tr>\\n      <td>10</td>\\n      <td style=\"background:darkorange;\">&nbsp;</td>\\n      <td>darkorange</td>\\n      <td>#FF8C00</td>\\n      <td>rgb(255,140,0)</td>\\n   </tr>\\n   <tr>\\n      <td>11</td>\\n      <td style=\"background:lightyellow;\">&nbsp;</td>\\n      <td>lightyellow</td>\\n      <td>#FFFFE0</td>\\n      <td>rgb(255,255,224)</td>\\n   </tr>\\n   <tr>\\n      <td>12</td>\\n      <td style=\"background:lemonchiffon;\">&nbsp;</td>\\n      <td>lemonchiffon</td>\\n      <td>#FFFACD</td>\\n      <td>rgb(255,250,205)</td>\\n   </tr>\\n   <tr>\\n      <td>13</td>\\n      <td style=\"background:papayawhip;\">&nbsp;</td>\\n      <td>papayawhip</td>\\n      <td>#FFEFD5</td>\\n      <td>rgb(255,239,213)</td>\\n   </tr>\\n   <tr>\\n      <td>14</td>\\n      <td style=\"background:moccasin;\">&nbsp;</td>\\n      <td>moccasin</td>\\n      <td>#FFE4B5</td>\\n      <td>rgb(255,228,181)</td>\\n   </tr>\\n   <tr>\\n      <td>15</td>\\n      <td style=\"background:peachpuff;\">&nbsp;</td>\\n      <td>peachpuff</td>\\n      <td>#FFDAB9</td>\\n      <td>rgb(255,218,185)</td>\\n   </tr>\\n   <tr>\\n      <td>16</td>\\n      <td style=\"background:palegoldenrod;\">&nbsp;</td>\\n      <td>palegoldenrod</td>\\n      <td>#EEE8AA</td>\\n      <td>rgb(238,232,170)</td>\\n   </tr>\\n   <tr>\\n      <td>17</td>\\n      <td style=\"background:khaki;\">&nbsp;</td>\\n      <td>khaki</td>\\n      <td>#F0E68C</td>\\n      <td>rgb(240,230,140)</td>\\n   </tr>\\n   <tr>\\n      <td>18</td>\\n      <td style=\"background:darkkhaki;\">&nbsp;</td>\\n      <td>darkkhaki</td>\\n      <td>#BDB76B</td>\\n      <td>rgb(189,183,107)</td>\\n   </tr>\\n   <tr>\\n      <td>19</td>\\n      <td style=\"background:yellow;\">&nbsp;</td>\\n      <td>yellow</td>\\n      <td>#FFFF00</td>\\n      <td>rgb(255,255,0)</td>\\n   </tr>\\n   <tr>\\n      <td>20</td>\\n      <td style=\"background:lawngreen;\">&nbsp;</td>\\n      <td>lawngreen</td>\\n      <td>#7CFC00</td>\\n      <td>rgb(124,252,0)</td>\\n   </tr>\\n   <tr>\\n      <td>21</td>\\n      <td style=\"background:chartreuse;\">&nbsp;</td>\\n      <td>chartreuse</td>\\n      <td>#7FFF00</td>\\n      <td>rgb(127,255,0)</td>\\n   </tr>\\n   <tr>\\n      <td>22</td>\\n      <td style=\"background:limegreen;\">&nbsp;</td>\\n      <td>limegreen</td>\\n      <td>#32CD32</td>\\n      <td>rgb(50,205,50)</td>\\n   </tr>\\n   <tr>\\n      <td>23</td>\\n      <td style=\"background:lime;\">&nbsp;</td>\\n      <td>lime</td>\\n      <td>#00FF00</td>\\n      <td>rgb(0.255.0)</td>\\n   </tr>\\n   <tr>\\n      <td>24</td>\\n      <td style=\"background:forestgreen;\">&nbsp;</td>\\n      <td>forestgreen</td>\\n      <td>#228B22</td>\\n      <td>rgb(34,139,34)</td>\\n   </tr>\\n   <tr>\\n      <td>25</td>\\n      <td style=\"background:green;\">&nbsp;</td>\\n      <td>green</td>\\n      <td>#008000</td>\\n      <td>rgb(0,128,0)</td>\\n   </tr>\\n   <tr>\\n      <td>26</td>\\n      <td style=\"background:powderblue;\">&nbsp;</td>\\n      <td>powderblue</td>\\n      <td>#B0E0E6</td>\\n      <td>rgb(176,224,230)</td>\\n   </tr>\\n   <tr>\\n      <td>27</td>\\n      <td style=\"background:lightblue;\">&nbsp;</td>\\n      <td>lightblue</td>\\n      <td>#ADD8E6</td>\\n      <td>rgb(173,216,230)</td>\\n   </tr>\\n   <tr>\\n      <td>28</td>\\n      <td style=\"background:lightskyblue;\">&nbsp;</td>\\n      <td>lightskyblue</td>\\n      <td>#87CEFA</td>\\n      <td>rgb(135,206,250)</td>\\n   </tr>\\n   <tr>\\n      <td>29</td>\\n      <td style=\"background:skyblue;\">&nbsp;</td>\\n      <td>skyblue</td>\\n      <td>#87CEEB</td>\\n      <td>rgb(135,206,235)</td>\\n   </tr>\\n   <tr>\\n      <td>30</td>\\n      <td style=\"background:deepskyblue;\">&nbsp;</td>\\n      <td>deepskyblue</td>\\n      <td>#00BFFF</td>\\n      <td>rgb(0,191,255)</td>\\n   </tr>\\n   <tr>\\n      <td>31</td>\\n      <td style=\"background:lightsteelblue;\">&nbsp;</td>\\n      <td>lightsteelblue</td>\\n      <td>#B0C4DE</td>\\n      <td>rgb(176,196,222)</td>\\n   </tr>\\n   <tr>\\n      <td>32</td>\\n      <td style=\"background:dodgerblue;\">&nbsp;</td>\\n      <td>dodgerblue</td>\\n      <td>#1E90FF</td>\\n      <td>rgb(30,144,255)</td>\\n   </tr>\\n</table>\\n   </body>\\n</html>'"
      ]
     },
     "execution_count": 12,
     "metadata": {},
     "output_type": "execute_result"
    }
   ],
   "source": [
    "data"
   ]
  },
  {
   "cell_type": "code",
   "execution_count": 13,
   "id": "f53a04e5-01e8-4f0b-b0c2-ff418039d273",
   "metadata": {
    "tags": []
   },
   "outputs": [],
   "source": [
    "soup = BeautifulSoup(data, 'html.parser')"
   ]
  },
  {
   "cell_type": "code",
   "execution_count": 14,
   "id": "dfcde38b-e951-4862-b2b8-475566c882a1",
   "metadata": {
    "tags": []
   },
   "outputs": [],
   "source": [
    "# find a html table in the web page\n",
    "table = soup.find('table') # in html table is represented by the tag <table>"
   ]
  },
  {
   "cell_type": "code",
   "execution_count": 16,
   "id": "4c5abd2d-5f29-4551-b28f-bac79ebe348c",
   "metadata": {
    "tags": []
   },
   "outputs": [
    {
     "name": "stdout",
     "output_type": "stream",
     "text": [
      "Color Name--->Hex Code#RRGGBB\n",
      "lightsalmon--->#FFA07A\n",
      "salmon--->#FA8072\n",
      "darksalmon--->#E9967A\n",
      "lightcoral--->#F08080\n",
      "coral--->#FF7F50\n",
      "tomato--->#FF6347\n",
      "orangered--->#FF4500\n",
      "gold--->#FFD700\n",
      "orange--->#FFA500\n",
      "darkorange--->#FF8C00\n",
      "lightyellow--->#FFFFE0\n",
      "lemonchiffon--->#FFFACD\n",
      "papayawhip--->#FFEFD5\n",
      "moccasin--->#FFE4B5\n",
      "peachpuff--->#FFDAB9\n",
      "palegoldenrod--->#EEE8AA\n",
      "khaki--->#F0E68C\n",
      "darkkhaki--->#BDB76B\n",
      "yellow--->#FFFF00\n",
      "lawngreen--->#7CFC00\n",
      "chartreuse--->#7FFF00\n",
      "limegreen--->#32CD32\n",
      "lime--->#00FF00\n",
      "forestgreen--->#228B22\n",
      "green--->#008000\n",
      "powderblue--->#B0E0E6\n",
      "lightblue--->#ADD8E6\n",
      "lightskyblue--->#87CEFA\n",
      "skyblue--->#87CEEB\n",
      "deepskyblue--->#00BFFF\n",
      "lightsteelblue--->#B0C4DE\n",
      "dodgerblue--->#1E90FF\n"
     ]
    }
   ],
   "source": [
    "#Get all rows from the table\n",
    "for row in table.find_all('tr'): # in html table row is represented by the tag <tr>\n",
    "    # Get all columns in each row.\n",
    "    cols = row.find_all('td') # in html a column is represented by the tag <td>\n",
    "    color_name = cols[2].getText() # store the value in column 3 as color_name\n",
    "    color_code = cols[3].getText() # store the value in column 4 as color_code\n",
    "    print(\"{}--->{}\".format(color_name,color_code))"
   ]
  },
  {
   "cell_type": "code",
   "execution_count": null,
   "id": "228b0d31-0570-415a-ad2c-afe2eed584d9",
   "metadata": {},
   "outputs": [],
   "source": []
  }
 ],
 "metadata": {
  "kernelspec": {
   "display_name": "Python 3 (ipykernel)",
   "language": "python",
   "name": "python3"
  },
  "language_info": {
   "codemirror_mode": {
    "name": "ipython",
    "version": 3
   },
   "file_extension": ".py",
   "mimetype": "text/x-python",
   "name": "python",
   "nbconvert_exporter": "python",
   "pygments_lexer": "ipython3",
   "version": "3.11.5"
  }
 },
 "nbformat": 4,
 "nbformat_minor": 5
}
