{
 "cells": [
  {
   "cell_type": "markdown",
   "id": "955e9f37-2fad-414c-a9b2-75c8132bef77",
   "metadata": {},
   "source": [
    "## Extract information from the given website"
   ]
  },
  {
   "cell_type": "code",
   "execution_count": 2,
   "id": "0e1d392e-7ec8-4a2b-b53d-5d543a0e2777",
   "metadata": {
    "tags": []
   },
   "outputs": [],
   "source": [
    "#this url contains the data you need to scrape\n",
    "url = \"https://cf-courses-data.s3.us.cloud-object-storage.appdomain.cloud/IBM-DA0321EN-SkillsNetwork/labs/datasets/Programming_Languages.html\""
   ]
  },
  {
   "cell_type": "markdown",
   "id": "a06aac19-638c-4828-a045-aa636239a294",
   "metadata": {},
   "source": [
    "Scrape the **name of the programming language** and **average annual salary**.  "
   ]
  },
  {
   "cell_type": "code",
   "execution_count": 4,
   "id": "211142a6-ef6d-46bd-ac47-054a3b9ebe56",
   "metadata": {
    "tags": []
   },
   "outputs": [],
   "source": [
    "# import required libraries\n",
    "from bs4 import BeautifulSoup\n",
    "import requests\n",
    "import pandas as pd\n",
    "import numpy as np"
   ]
  },
  {
   "cell_type": "markdown",
   "id": "4a2742c2-dd73-45a9-9a37-54ef59939040",
   "metadata": {},
   "source": [
    "Download the webpage at the url "
   ]
  },
  {
   "cell_type": "code",
   "execution_count": 6,
   "id": "5d4b31a5-22cd-4036-b6d1-ddc991e67312",
   "metadata": {
    "tags": []
   },
   "outputs": [],
   "source": [
    "data = requests.get(url).text"
   ]
  },
  {
   "cell_type": "markdown",
   "id": "f3c5165e-f68e-4454-9f65-1da5a4352364",
   "metadata": {
    "tags": []
   },
   "source": [
    "Create a soup object"
   ]
  },
  {
   "cell_type": "code",
   "execution_count": 8,
   "id": "eb1c901e-a57d-44ef-ac97-e65600c7eec0",
   "metadata": {
    "tags": []
   },
   "outputs": [],
   "source": [
    "soup = BeautifulSoup(data, 'html.parser')"
   ]
  },
  {
   "cell_type": "code",
   "execution_count": 9,
   "id": "c195d3bf-9388-46ca-84bc-9eb10a597827",
   "metadata": {
    "tags": []
   },
   "outputs": [],
   "source": [
    "table = soup.find('table')"
   ]
  },
  {
   "cell_type": "markdown",
   "id": "6e418181-6a26-41c7-835f-be0c8a56ff51",
   "metadata": {},
   "source": [
    "Scrape the `Language name` and `annual average salary`. "
   ]
  },
  {
   "cell_type": "code",
   "execution_count": 11,
   "id": "e95a607c-0299-4b59-87f2-a4021e2a28e1",
   "metadata": {
    "tags": []
   },
   "outputs": [
    {
     "name": "stdout",
     "output_type": "stream",
     "text": [
      "Language----->Average Annual Salary\n",
      "Python----->$114,383\n",
      "Java----->$101,013\n",
      "R----->$92,037\n",
      "Javascript----->$110,981\n",
      "Swift----->$130,801\n",
      "C++----->$113,865\n",
      "C#----->$88,726\n",
      "PHP----->$84,727\n",
      "SQL----->$84,793\n",
      "Go----->$94,082\n"
     ]
    }
   ],
   "source": [
    "for row in table.find_all('tr'):\n",
    "    cols = row.find_all('td')\n",
    "    lan_name = cols[1].getText()\n",
    "    ann_sal = cols[3].getText()\n",
    "    print(\"{}----->{}\".format(lan_name, ann_sal))"
   ]
  },
  {
   "cell_type": "markdown",
   "id": "2f4e5099-ac1f-4426-84dd-9dafe11a9f99",
   "metadata": {},
   "source": [
    "Save the scrapped data into a file named popular-languages.csv"
   ]
  },
  {
   "cell_type": "code",
   "execution_count": 13,
   "id": "413032f0-6c85-4aca-974f-bfc22e1ebae5",
   "metadata": {
    "tags": []
   },
   "outputs": [
    {
     "name": "stdout",
     "output_type": "stream",
     "text": [
      "Language----->Average Annual Salary\n",
      "Python----->$114,383\n",
      "Java----->$101,013\n",
      "R----->$92,037\n",
      "Javascript----->$110,981\n",
      "Swift----->$130,801\n",
      "C++----->$113,865\n",
      "C#----->$88,726\n",
      "PHP----->$84,727\n",
      "SQL----->$84,793\n",
      "Go----->$94,082\n"
     ]
    }
   ],
   "source": [
    "data = []\n",
    "\n",
    "for row in table.find_all('tr'):\n",
    "    cols = row.find_all('td')\n",
    "    lan_name = cols[1].getText()\n",
    "    ann_sal = cols[3].getText()\n",
    "    print(\"{}----->{}\".format(lan_name, ann_sal))\n",
    "    data.append([lan_name, ann_sal])\n",
    "    \n",
    "df = pd.DataFrame(data, columns=['Language', 'Average Annual Salary'])\n"
   ]
  },
  {
   "cell_type": "code",
   "execution_count": 14,
   "id": "ce99ad71-3783-4046-b862-0067b0434150",
   "metadata": {
    "tags": []
   },
   "outputs": [
    {
     "data": {
      "text/html": [
       "<div>\n",
       "<style scoped>\n",
       "    .dataframe tbody tr th:only-of-type {\n",
       "        vertical-align: middle;\n",
       "    }\n",
       "\n",
       "    .dataframe tbody tr th {\n",
       "        vertical-align: top;\n",
       "    }\n",
       "\n",
       "    .dataframe thead th {\n",
       "        text-align: right;\n",
       "    }\n",
       "</style>\n",
       "<table border=\"1\" class=\"dataframe\">\n",
       "  <thead>\n",
       "    <tr style=\"text-align: right;\">\n",
       "      <th></th>\n",
       "      <th>Language</th>\n",
       "      <th>Average Annual Salary</th>\n",
       "    </tr>\n",
       "  </thead>\n",
       "  <tbody>\n",
       "    <tr>\n",
       "      <th>0</th>\n",
       "      <td>Language</td>\n",
       "      <td>Average Annual Salary</td>\n",
       "    </tr>\n",
       "    <tr>\n",
       "      <th>1</th>\n",
       "      <td>Python</td>\n",
       "      <td>$114,383</td>\n",
       "    </tr>\n",
       "    <tr>\n",
       "      <th>2</th>\n",
       "      <td>Java</td>\n",
       "      <td>$101,013</td>\n",
       "    </tr>\n",
       "    <tr>\n",
       "      <th>3</th>\n",
       "      <td>R</td>\n",
       "      <td>$92,037</td>\n",
       "    </tr>\n",
       "    <tr>\n",
       "      <th>4</th>\n",
       "      <td>Javascript</td>\n",
       "      <td>$110,981</td>\n",
       "    </tr>\n",
       "    <tr>\n",
       "      <th>5</th>\n",
       "      <td>Swift</td>\n",
       "      <td>$130,801</td>\n",
       "    </tr>\n",
       "    <tr>\n",
       "      <th>6</th>\n",
       "      <td>C++</td>\n",
       "      <td>$113,865</td>\n",
       "    </tr>\n",
       "    <tr>\n",
       "      <th>7</th>\n",
       "      <td>C#</td>\n",
       "      <td>$88,726</td>\n",
       "    </tr>\n",
       "    <tr>\n",
       "      <th>8</th>\n",
       "      <td>PHP</td>\n",
       "      <td>$84,727</td>\n",
       "    </tr>\n",
       "    <tr>\n",
       "      <th>9</th>\n",
       "      <td>SQL</td>\n",
       "      <td>$84,793</td>\n",
       "    </tr>\n",
       "    <tr>\n",
       "      <th>10</th>\n",
       "      <td>Go</td>\n",
       "      <td>$94,082</td>\n",
       "    </tr>\n",
       "  </tbody>\n",
       "</table>\n",
       "</div>"
      ],
      "text/plain": [
       "      Language  Average Annual Salary\n",
       "0     Language  Average Annual Salary\n",
       "1       Python               $114,383\n",
       "2         Java               $101,013\n",
       "3            R                $92,037\n",
       "4   Javascript               $110,981\n",
       "5        Swift               $130,801\n",
       "6          C++               $113,865\n",
       "7           C#                $88,726\n",
       "8          PHP                $84,727\n",
       "9          SQL                $84,793\n",
       "10          Go                $94,082"
      ]
     },
     "execution_count": 14,
     "metadata": {},
     "output_type": "execute_result"
    }
   ],
   "source": [
    "df"
   ]
  },
  {
   "cell_type": "code",
   "execution_count": 15,
   "id": "2333812a-e4f0-4032-9c57-d909dc07731e",
   "metadata": {
    "tags": []
   },
   "outputs": [
    {
     "name": "stdout",
     "output_type": "stream",
     "text": [
      "Data saved to popular-languages.csv\n"
     ]
    }
   ],
   "source": [
    "# Save the dataframe to a csv file\n",
    "df.to_csv('popular-languages.csv', index=False)\n",
    "print('Data saved to popular-languages.csv')"
   ]
  },
  {
   "cell_type": "code",
   "execution_count": 16,
   "id": "f2ae03d3-5702-46c1-bda3-66ab2e63e5fe",
   "metadata": {
    "tags": []
   },
   "outputs": [
    {
     "data": {
      "text/plain": [
       "Language                                 Swift\n",
       "Average Annual Salary    Average Annual Salary\n",
       "dtype: object"
      ]
     },
     "execution_count": 16,
     "metadata": {},
     "output_type": "execute_result"
    }
   ],
   "source": [
    "df.max()"
   ]
  },
  {
   "cell_type": "code",
   "execution_count": 28,
   "id": "a559ad2e-4af7-46a6-b4b5-9634619fd1bd",
   "metadata": {},
   "outputs": [],
   "source": [
    "import matplotlib.pyplot as plt\n",
    "import matplotlib as mpl\n",
    "%matplotlib inline\n",
    "import seaborn as sns"
   ]
  },
  {
   "cell_type": "code",
   "execution_count": 54,
   "id": "2e72b89e-5e2d-48cd-a8b3-ad658ec0583b",
   "metadata": {},
   "outputs": [],
   "source": [
    "df = df.drop(0)"
   ]
  },
  {
   "cell_type": "code",
   "execution_count": 69,
   "id": "9ed1792a-8187-422f-a36b-b7ecd746706c",
   "metadata": {},
   "outputs": [],
   "source": [
    "df['Average Annual Salary'] = df['Average Annual Salary'].str.replace('$', '', regex = False)\n",
    "df['Average Annual Salary'] = df['Average Annual Salary'].str.replace(',', '', regex = False)\n",
    "df['Average Annual Salary'] = df['Average Annual Salary'].astype('float')"
   ]
  },
  {
   "cell_type": "code",
   "execution_count": 91,
   "id": "6c0739f9-658c-48c7-b7df-1c5687da1109",
   "metadata": {},
   "outputs": [],
   "source": [
    "df = df.sort_values(by = 'Average Annual Salary', ascending = False)"
   ]
  },
  {
   "cell_type": "code",
   "execution_count": 99,
   "id": "e3a88eb0-a0a0-401b-a84a-e2163337577f",
   "metadata": {},
   "outputs": [
    {
     "data": {
      "image/png": "[encoded data removed]",
      "text/plain": [
       "<Figure size 640x480 with 1 Axes>"
      ]
     },
     "metadata": {},
     "output_type": "display_data"
    }
   ],
   "source": [
    "df.plot(kind = 'barh',\n",
    "        x = 'Language',\n",
    "        y = 'Average Annual Salary',\n",
    "       color = 'Purple')\n",
    "\n",
    "plt.title('Popular languages by Salary')\n",
    "plt.ylabel(' Salary ($)')\n",
    "plt.show()"
   ]
  },
  {
   "cell_type": "raw",
   "id": "bcbf73dd-48e8-413f-a772-31a5484bcf03",
   "metadata": {},
   "source": []
  },
  {
   "cell_type": "code",
   "execution_count": null,
   "id": "43a5fed3-53ed-4d83-87e7-1467374acaa5",
   "metadata": {},
   "outputs": [],
   "source": []
  }
 ],
 "metadata": {
  "kernelspec": {
   "display_name": "Python 3 (ipykernel)",
   "language": "python",
   "name": "python3"
  },
  "language_info": {
   "codemirror_mode": {
    "name": "ipython",
    "version": 3
   },
   "file_extension": ".py",
   "mimetype": "text/x-python",
   "name": "python",
   "nbconvert_exporter": "python",
   "pygments_lexer": "ipython3",
   "version": "3.12.4"
  }
 },
 "nbformat": 4,
 "nbformat_minor": 5
}
